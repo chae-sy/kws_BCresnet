{
 "cells": [
  {
   "cell_type": "code",
   "execution_count": 3,
   "metadata": {},
   "outputs": [],
   "source": [
    "import torch\n",
    "\n",
    "s=1\n",
    "\n",
    "Nif=4\n",
    "Nix=5\n",
    "Niy=5\n",
    "\n",
    "Nkx=1\n",
    "Nky=1\n",
    "\n",
    "Nox=int((Nix-Nkx)/s+1)\n",
    "Noy=int((Niy-Nky)/s+1)\n",
    "Nof=3\n",
    "\n",
    "\n",
    "\n",
    "nof_par=3\n",
    "nif_par=4\n",
    "\n",
    "cycle=0\n",
    "\n",
    "input=torch.randn( Nif, Nix, Niy)\n",
    "weight=torch.randn(Nif, Nof, Nkx, Nky)\n",
    "output=torch.zeros(Nof, Nox, Noy)\n"
   ]
  },
  {
   "cell_type": "code",
   "execution_count": 4,
   "metadata": {},
   "outputs": [
    {
     "name": "stdout",
     "output_type": "stream",
     "text": [
      "25\n"
     ]
    }
   ],
   "source": [
    "for no in range(Nof//nof_par): #parallel\n",
    "    for y in range(Noy):\n",
    "        for x in range(Nox):\n",
    "            for ni in range (Nif//nif_par): #parallel\n",
    "                for ky in range(Nky):\n",
    "                    for kx in range(Nkx):\n",
    "                        #in one cycle\n",
    "                        for no1 in range(nof_par):\n",
    "                            for ni1 in range(nif_par):\n",
    "                                output[no*nof_par+no1][x][y]+=input[ni*nif_par+ni1][s*x+kx][s*y+ky] * weight[ni*nif_par+ni1][no*nof_par+no1][kx][ky]\n",
    "\n",
    "                        #print(\"input \", input)\n",
    "                        #print(\"output \",output)\n",
    "                        #print(\"weight \",weight)\n",
    "                        cycle+=1\n",
    "\n",
    "\n",
    "print(cycle)"
   ]
  },
  {
   "cell_type": "code",
   "execution_count": 6,
   "metadata": {},
   "outputs": [
    {
     "name": "stdout",
     "output_type": "stream",
     "text": [
      "torch.Size([3, 5, 5])\n"
     ]
    }
   ],
   "source": [
    "print(output.shape)"
   ]
  }
 ],
 "metadata": {
  "kernelspec": {
   "display_name": "env_kws",
   "language": "python",
   "name": "python3"
  },
  "language_info": {
   "codemirror_mode": {
    "name": "ipython",
    "version": 3
   },
   "file_extension": ".py",
   "mimetype": "text/x-python",
   "name": "python",
   "nbconvert_exporter": "python",
   "pygments_lexer": "ipython3",
   "version": "3.12.4"
  }
 },
 "nbformat": 4,
 "nbformat_minor": 2
}
