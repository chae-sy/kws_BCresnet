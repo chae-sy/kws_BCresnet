{
 "cells": [
  {
   "cell_type": "code",
   "execution_count": 8,
   "metadata": {},
   "outputs": [],
   "source": [
    "import torch\n",
    "\n",
    "Nif=1\n",
    "Nix=5\n",
    "Niy=5\n",
    "\n",
    "Nkx=3\n",
    "Nky=3\n",
    "\n",
    "Nox=3\n",
    "Noy=3\n",
    "Nof=4\n",
    "\n",
    "s=1\n",
    "\n",
    "input=torch.randn( Nif, Nix, Niy)\n",
    "weight=torch.randn(Nif, Nof, Nkx, Nky)\n",
    "output=torch.zeros(Nof, Nox, Noy)\n"
   ]
  },
  {
   "cell_type": "code",
   "execution_count": 18,
   "metadata": {},
   "outputs": [],
   "source": [
    "cycle=0"
   ]
  },
  {
   "cell_type": "code",
   "execution_count": 19,
   "metadata": {},
   "outputs": [],
   "source": [
    "for no in range(Nof):\n",
    "    for y in range(Noy):\n",
    "        for x in range(Nox):\n",
    "            for ni in range (Nif):\n",
    "                for ky in range(Nky):\n",
    "                    for kx in range(Nkx):\n",
    "                        output[no][x][y]+=input[ni][s*x+kx][s*y+ky] * weight[ni][no][kx][ky]\n",
    "                        #print(\"input \", input)\n",
    "                        #print(\"output \",output)\n",
    "                        #print(\"weight \",weight)\n",
    "                        cycle+=1"
   ]
  },
  {
   "cell_type": "code",
   "execution_count": 20,
   "metadata": {},
   "outputs": [
    {
     "name": "stdout",
     "output_type": "stream",
     "text": [
      "324\n"
     ]
    }
   ],
   "source": [
    "print(cycle)"
   ]
  },
  {
   "cell_type": "code",
   "execution_count": 15,
   "metadata": {},
   "outputs": [
    {
     "name": "stdout",
     "output_type": "stream",
     "text": [
      "tensor([[[ 1.0527, -0.6420,  1.5494, -0.3188,  1.0056],\n",
      "         [-0.5570,  0.5737, -0.1715, -0.4835, -1.6974],\n",
      "         [ 1.1813, -1.2347, -0.7304,  2.5393, -1.7603],\n",
      "         [ 0.2774, -0.1283, -0.7668, -0.5408, -0.3844],\n",
      "         [-0.2483, -0.3304, -3.0573,  1.6323,  0.5578]]])\n"
     ]
    }
   ],
   "source": [
    "print(input)"
   ]
  },
  {
   "cell_type": "code",
   "execution_count": 17,
   "metadata": {},
   "outputs": [
    {
     "name": "stdout",
     "output_type": "stream",
     "text": [
      "tensor([[[[ 0.6748, -1.4934,  0.6666],\n",
      "          [ 0.1876, -1.4061,  0.4958],\n",
      "          [-0.5781,  0.4285,  0.0373]],\n",
      "\n",
      "         [[ 0.6776,  0.8717, -0.1540],\n",
      "          [-0.5623,  0.4181,  1.1131],\n",
      "          [ 0.4570,  1.2507,  0.5136]],\n",
      "\n",
      "         [[-0.4634,  0.7039,  1.3865],\n",
      "          [-0.5330,  0.8225,  0.1034],\n",
      "          [ 0.3143,  0.7347, -0.5648]],\n",
      "\n",
      "         [[ 1.7756,  0.2459,  0.4915],\n",
      "          [-0.9025, -0.0905, -0.4609],\n",
      "          [-0.1199,  1.6316, -0.8984]]]])\n"
     ]
    }
   ],
   "source": [
    "print(weight)"
   ]
  },
  {
   "cell_type": "code",
   "execution_count": 16,
   "metadata": {},
   "outputs": [
    {
     "name": "stdout",
     "output_type": "stream",
     "text": [
      "tensor([[[ 4.6659e-01, -2.3551e+00,  3.4427e+00],\n",
      "         [ 4.6086e-03,  2.1008e+00, -4.9081e+00],\n",
      "         [ 1.8943e+00,  1.6781e+00, -2.5449e+00]],\n",
      "\n",
      "        [[-1.1022e+00, -1.4158e-01,  5.5997e-01],\n",
      "         [-2.2719e+00,  2.2339e+00, -1.9875e+00],\n",
      "         [-3.3232e+00, -5.8513e+00,  2.6973e+00]],\n",
      "\n",
      "        [[ 1.8364e+00, -1.9097e+00,  2.6004e+00],\n",
      "         [-8.7046e-01, -1.0351e+00, -7.3971e-01],\n",
      "         [-1.3558e+00, -3.1127e-01, -4.6729e-01]],\n",
      "\n",
      "        [[ 1.5026e+00, -4.5201e+00,  9.9601e+00],\n",
      "         [-1.1036e+00, -8.0800e-04, -4.6223e-01],\n",
      "         [ 3.7868e+00, -7.1045e+00,  1.9092e+00]]])\n"
     ]
    }
   ],
   "source": [
    "print(output)"
   ]
  }
 ],
 "metadata": {
  "kernelspec": {
   "display_name": "env_kws",
   "language": "python",
   "name": "python3"
  },
  "language_info": {
   "codemirror_mode": {
    "name": "ipython",
    "version": 3
   },
   "file_extension": ".py",
   "mimetype": "text/x-python",
   "name": "python",
   "nbconvert_exporter": "python",
   "pygments_lexer": "ipython3",
   "version": "3.12.4"
  }
 },
 "nbformat": 4,
 "nbformat_minor": 2
}
