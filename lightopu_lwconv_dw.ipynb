{
 "cells": [
  {
   "cell_type": "code",
   "execution_count": 1,
   "metadata": {},
   "outputs": [],
   "source": [
    "import torch\n",
    "\n",
    "s=1\n",
    "\n",
    "Nif=4\n",
    "Nix=4\n",
    "Niy=4\n",
    "\n",
    "Nkx=2\n",
    "Nky=2\n",
    "\n",
    "Nox=int((Nix-Nkx)/s+1)\n",
    "Noy=int((Niy-Nky)/s+1)\n",
    "Nof=4\n",
    "\n",
    "Nif=Nof\n",
    "\n",
    "\n",
    "nof_par=4\n",
    "nif_par=4\n",
    "nkx_par=2\n",
    "nky_par=2\n",
    "kernel_par=Nkx*Nky\n",
    "\n",
    "cycle=0\n",
    "\n",
    "input=torch.randn(Nif, Nix, Niy)\n",
    "weight=torch.randn(Nif, Nkx, Nky)\n",
    "output=torch.zeros(Nof, Nox, Noy)\n"
   ]
  },
  {
   "cell_type": "code",
   "execution_count": 2,
   "metadata": {},
   "outputs": [
    {
     "name": "stdout",
     "output_type": "stream",
     "text": [
      "144\n"
     ]
    }
   ],
   "source": [
    "#dw without parallelism\n",
    "for no in range(Nof): \n",
    "    for y in range(Noy):\n",
    "        for x in range(Nox):\n",
    "            #for ni in range (Nif): \n",
    "            for ky in range(Nky):\n",
    "                for kx in range(Nkx):\n",
    "                    #print(no+1, x+3*y)\n",
    "                    #print(no+1, s*x+kx, s*y+ky)\n",
    "                    #print(no+1, kx+2*ky)\n",
    "                    #print('\\n')\n",
    "                    output[no][x][y]+=input[no][s*x+kx][s*y+ky] * weight[no][kx][ky]\n",
    "                    cycle+=1\n",
    "\n",
    "\n",
    "print(cycle)"
   ]
  },
  {
   "cell_type": "code",
   "execution_count": 3,
   "metadata": {},
   "outputs": [
    {
     "name": "stdout",
     "output_type": "stream",
     "text": [
      "tensor([[[ 0.0810, -0.2652, -2.1615],\n",
      "         [ 1.9637, -0.9055, -0.7595],\n",
      "         [-0.4331, -0.7083, -0.0434]],\n",
      "\n",
      "        [[ 2.1409, -2.4707,  1.5263],\n",
      "         [-0.2562,  1.2621, -0.8949],\n",
      "         [ 1.6921, -1.5039,  2.2163]],\n",
      "\n",
      "        [[-5.2274,  0.5256,  2.0100],\n",
      "         [ 0.3335, -0.2919, -1.1516],\n",
      "         [ 3.2920, -4.6294, -4.5473]],\n",
      "\n",
      "        [[ 0.8894,  1.2830, -2.3817],\n",
      "         [ 1.2622, -1.0718, -0.2295],\n",
      "         [ 3.8316, -2.2469,  3.7432]]])\n"
     ]
    }
   ],
   "source": [
    "print(output)"
   ]
  },
  {
   "cell_type": "code",
   "execution_count": 5,
   "metadata": {},
   "outputs": [
    {
     "name": "stdout",
     "output_type": "stream",
     "text": [
      "9\n"
     ]
    }
   ],
   "source": [
    "#dw with parallelism\n",
    "cycle=0\n",
    "for no in range(Nof//nof_par): \n",
    "    for y in range(Noy):\n",
    "        for x in range(Nox):\n",
    "            #for ni in range (Nif): \n",
    "            for ky in range(Nky//nky_par):\n",
    "                for kx in range(Nkx//nkx_par):\n",
    "                    #in one cycle\n",
    "                    for no1 in range(nof_par):\n",
    "                        for ky1 in range(nky_par):\n",
    "                            for kx1 in range(nkx_par):\n",
    "                                output[no*nof_par+no1][x][y]+=input[no*nof_par+no1][s*x+(kx*nkx_par+kx1)][s*y+(ky*nky_par+ky1)] * weight[no*nof_par+no1][(kx*nkx_par+kx1)][(ky*nky_par+ky1)]\n",
    "                    cycle+=1\n",
    "print(cycle)"
   ]
  },
  {
   "cell_type": "code",
   "execution_count": 23,
   "metadata": {},
   "outputs": [
    {
     "name": "stdout",
     "output_type": "stream",
     "text": [
      "tensor([[[-1.1731,  3.3708, -5.6262, -9.8522],\n",
      "         [ 5.5946, -2.9809, -3.1357,  3.6884],\n",
      "         [ 1.5248, -7.7382, -4.1389,  2.9927],\n",
      "         [-0.9772,  0.3627,  8.3034, -4.4183]],\n",
      "\n",
      "        [[-2.3049, -3.5639,  4.9046,  3.0635],\n",
      "         [ 2.9943, -6.8540, -7.7821,  2.5723],\n",
      "         [ 2.8449, -4.2599,  1.5922, -1.1001],\n",
      "         [-1.5686,  3.5773,  5.1814, -2.7355]],\n",
      "\n",
      "        [[ 1.7156,  5.2450,  4.4732, -0.7336],\n",
      "         [-7.1752, -3.0907,  2.6625,  5.3353],\n",
      "         [-4.5596, -0.2805,  1.6685,  2.5080],\n",
      "         [-0.7932, -2.9263,  0.6053,  3.3063]]])\n"
     ]
    }
   ],
   "source": [
    "print(output)"
   ]
  }
 ],
 "metadata": {
  "kernelspec": {
   "display_name": "env_kws",
   "language": "python",
   "name": "python3"
  },
  "language_info": {
   "codemirror_mode": {
    "name": "ipython",
    "version": 3
   },
   "file_extension": ".py",
   "mimetype": "text/x-python",
   "name": "python",
   "nbconvert_exporter": "python",
   "pygments_lexer": "ipython3",
   "version": "3.12.4"
  }
 },
 "nbformat": 4,
 "nbformat_minor": 2
}
