{
 "cells": [
  {
   "cell_type": "code",
   "execution_count": 21,
   "metadata": {},
   "outputs": [],
   "source": [
    "import torch\n",
    "\n",
    "s=1\n",
    "\n",
    "Nif=4\n",
    "Nix=5\n",
    "Niy=5\n",
    "\n",
    "Nkx=2\n",
    "Nky=2\n",
    "\n",
    "\n",
    "Nox=int((Nix-Nkx)/s+1)\n",
    "Noy=int((Niy-Nky)/s+1)\n",
    "Nof=3\n",
    "\n",
    "\n",
    "nof_par=3\n",
    "nif_par=4\n",
    "\n",
    "cycle=0\n",
    "\n",
    "input=torch.randn( Nif, Nix, Niy)\n",
    "weight=torch.randn(Nif, Nof, Nkx, Nky)\n",
    "output=torch.zeros(Nof, Nox, Noy)\n"
   ]
  },
  {
   "cell_type": "code",
   "execution_count": 22,
   "metadata": {},
   "outputs": [
    {
     "name": "stdout",
     "output_type": "stream",
     "text": [
      "64\n"
     ]
    }
   ],
   "source": [
    "for no in range(Nof//nof_par): #parallel\n",
    "    for y in range(Noy):\n",
    "        for x in range(Nox):\n",
    "            for ni in range (Nif//nif_par): #parallel\n",
    "                for ky in range(Nky):\n",
    "                    for kx in range(Nkx):\n",
    "                        #in one cycle\n",
    "                        for no1 in range(nof_par):\n",
    "                            for ni1 in range(nif_par):\n",
    "                                output[no*nof_par+no1][x][y]+=input[ni*nif_par+ni1][s*x+kx][s*y+ky] * weight[ni*nif_par+ni1][no*nof_par+no1][kx][ky]\n",
    "\n",
    "                        #print(\"input \", input)\n",
    "                        #print(\"output \",output)\n",
    "                        #print(\"weight \",weight)\n",
    "                        cycle+=1\n",
    "\n",
    "\n",
    "print(cycle)"
   ]
  },
  {
   "cell_type": "code",
   "execution_count": 23,
   "metadata": {},
   "outputs": [
    {
     "name": "stdout",
     "output_type": "stream",
     "text": [
      "tensor([[[-1.1731,  3.3708, -5.6262, -9.8522],\n",
      "         [ 5.5946, -2.9809, -3.1357,  3.6884],\n",
      "         [ 1.5248, -7.7382, -4.1389,  2.9927],\n",
      "         [-0.9772,  0.3627,  8.3034, -4.4183]],\n",
      "\n",
      "        [[-2.3049, -3.5639,  4.9046,  3.0635],\n",
      "         [ 2.9943, -6.8540, -7.7821,  2.5723],\n",
      "         [ 2.8449, -4.2599,  1.5922, -1.1001],\n",
      "         [-1.5686,  3.5773,  5.1814, -2.7355]],\n",
      "\n",
      "        [[ 1.7156,  5.2450,  4.4732, -0.7336],\n",
      "         [-7.1752, -3.0907,  2.6625,  5.3353],\n",
      "         [-4.5596, -0.2805,  1.6685,  2.5080],\n",
      "         [-0.7932, -2.9263,  0.6053,  3.3063]]])\n"
     ]
    }
   ],
   "source": [
    "print(output)"
   ]
  }
 ],
 "metadata": {
  "kernelspec": {
   "display_name": "env_kws",
   "language": "python",
   "name": "python3"
  },
  "language_info": {
   "codemirror_mode": {
    "name": "ipython",
    "version": 3
   },
   "file_extension": ".py",
   "mimetype": "text/x-python",
   "name": "python",
   "nbconvert_exporter": "python",
   "pygments_lexer": "ipython3",
   "version": "3.12.4"
  }
 },
 "nbformat": 4,
 "nbformat_minor": 2
}
