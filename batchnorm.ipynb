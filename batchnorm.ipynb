{
 "cells": [
  {
   "cell_type": "code",
   "execution_count": 1,
   "metadata": {},
   "outputs": [
    {
     "name": "stdout",
     "output_type": "stream",
     "text": [
      "tensor([[[[ 1.2920, -1.0263,  0.5823,  0.8537],\n",
      "          [ 1.3690,  0.1974,  1.5865, -0.0495],\n",
      "          [-0.9763,  0.4018, -0.4414, -0.5954],\n",
      "          [ 0.0130, -0.3720,  0.3734, -0.0434]]]])\n",
      "tensor([[[[0.1521, 0.0942],\n",
      "          [0.5929, 0.0000]],\n",
      "\n",
      "         [[0.0948, 0.0926],\n",
      "          [0.0000, 0.0000]],\n",
      "\n",
      "         [[0.4132, 0.2185],\n",
      "          [0.0000, 0.0000]],\n",
      "\n",
      "         [[0.0000, 0.0000],\n",
      "          [0.0000, 0.0000]],\n",
      "\n",
      "         [[0.0915, 0.5942],\n",
      "          [0.0000, 0.0494]]]], grad_fn=<HardtanhBackward0>)\n",
      "cnn_head.0.weight \t torch.Size([5, 1, 3, 3])\n",
      "cnn_head.1.weight \t torch.Size([5])\n",
      "cnn_head.1.bias \t torch.Size([5])\n",
      "cnn_head.1.running_mean \t torch.Size([5])\n",
      "cnn_head.1.running_var \t torch.Size([5])\n",
      "cnn_head.1.num_batches_tracked \t torch.Size([])\n"
     ]
    }
   ],
   "source": [
    "import torch\n",
    "import torch.nn as nn\n",
    "## to clarify the following question\n",
    "## does batchnorm2d need weight, bias, running var, running mean for inference?\n",
    "\n",
    "# model established\n",
    "\n",
    "class BCResNets(nn.Module):\n",
    "    def __init__(self):\n",
    "        super().__init__()\n",
    "        self.build_network()\n",
    "        \n",
    "    def build_network(self):\n",
    "        self.cnn_head = nn.Sequential(\n",
    "            nn.Conv2d(1, 5, kernel_size=3, bias=False), \n",
    "            nn.BatchNorm2d(5),\n",
    "            nn.ReLU6(True),\n",
    "        )\n",
    "\n",
    "    def forward(self, x):\n",
    "        x = self.cnn_head(x)\n",
    "        return x\n",
    "\n",
    "# model parameter initialized \n",
    "model=BCResNets()\n",
    "model.train()\n",
    "def custom_init(m):\n",
    "    if isinstance(m, nn.Linear):\n",
    "        nn.init.normal_(m.weight, mean=0, std=0.01)\n",
    "        nn.init.normal_(m.bias, mean=0, std=0.01)\n",
    "\n",
    "model.apply(custom_init)\n",
    "\n",
    "# dummy data \n",
    "model.eval()\n",
    "x=torch.randn(1,1,4,4)\n",
    "print(x)\n",
    "y=model(x)\n",
    "print(y)\n",
    "\n",
    "# parameters exported \n",
    "params = model.state_dict()\n",
    "torch.save(params, \"model_BN.prm\", pickle_protocol = 5)\n",
    "\n",
    "for param_tensor in model.state_dict():\n",
    "    print(param_tensor, \"\\t\", model.state_dict()[param_tensor].size())\n"
   ]
  },
  {
   "cell_type": "code",
   "execution_count": 14,
   "metadata": {},
   "outputs": [
    {
     "name": "stdout",
     "output_type": "stream",
     "text": [
      "odict_keys(['cnn_head.0.weight', 'cnn_head.1.weight', 'cnn_head.1.bias', 'cnn_head.1.running_mean', 'cnn_head.1.running_var', 'cnn_head.1.num_batches_tracked'])\n",
      "tensor([1., 1., 1., 1., 1.])\n"
     ]
    }
   ],
   "source": [
    "params = torch.load(\"model_BN.prm\", map_location = \"cpu\")\n",
    "print(params.keys())\n",
    "print(params['cnn_head.1.running_var'])"
   ]
  },
  {
   "cell_type": "code",
   "execution_count": 8,
   "metadata": {},
   "outputs": [
    {
     "name": "stdout",
     "output_type": "stream",
     "text": [
      "tensor([0., 0., 0., 0., 0.])\n"
     ]
    }
   ],
   "source": [
    "print(model.state_dict()['cnn_head.1.running_mean'])"
   ]
  }
 ],
 "metadata": {
  "kernelspec": {
   "display_name": "kws",
   "language": "python",
   "name": "python3"
  },
  "language_info": {
   "codemirror_mode": {
    "name": "ipython",
    "version": 3
   },
   "file_extension": ".py",
   "mimetype": "text/x-python",
   "name": "python",
   "nbconvert_exporter": "python",
   "pygments_lexer": "ipython3",
   "version": "3.8.20"
  }
 },
 "nbformat": 4,
 "nbformat_minor": 2
}
