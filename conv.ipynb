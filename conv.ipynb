{
 "cells": [
  {
   "cell_type": "code",
   "execution_count": null,
   "metadata": {},
   "outputs": [],
   "source": [
    "import torch\n",
    "\n",
    "Nif=1\n",
    "Nix=5\n",
    "Niy=5\n",
    "\n",
    "Nkx=3\n",
    "Nky=3\n",
    "\n",
    "Nox=3\n",
    "Noy=3\n",
    "Nof=4\n",
    "\n",
    "s=1\n",
    "\n",
    "input=torch.randn( Nif, Nix, Niy)\n",
    "weight=torch.randn(Nif, Nof, Nkx, Nky)\n",
    "output=torch.randn(Nof, Nox, Noy)\n",
    "for no in range(Nof):\n",
    "    for y in range(Noy):\n",
    "        for x in range(Nox):\n",
    "            for ni in range (Nif):\n",
    "                for ky in range(Nky):\n",
    "                    for kx in range(Nkx):\n",
    "                        output[no][x][y]+=input[ni][s*x+kx][s*y+ky] * weight[ni][no][kx][ky]\n"
   ]
  }
 ],
 "metadata": {
  "language_info": {
   "name": "python"
  }
 },
 "nbformat": 4,
 "nbformat_minor": 2
}
