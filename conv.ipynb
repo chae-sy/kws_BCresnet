{
 "cells": [
  {
   "cell_type": "code",
   "execution_count": 1,
   "metadata": {},
   "outputs": [],
   "source": [
    "import torch\n",
    "\n",
    "Nif=1\n",
    "Nix=5\n",
    "Niy=5\n",
    "\n",
    "Nkx=3\n",
    "Nky=3\n",
    "\n",
    "Nox=3\n",
    "Noy=3\n",
    "Nof=4\n",
    "\n",
    "s=1\n",
    "\n",
    "input=torch.randn( Nif, Nix, Niy)\n",
    "weight=torch.randn(Nif, Nof, Nkx, Nky)\n",
    "output=torch.zeros(Nof, Nox, Noy)\n"
   ]
  },
  {
   "cell_type": "code",
   "execution_count": 2,
   "metadata": {},
   "outputs": [],
   "source": [
    "cycle=0"
   ]
  },
  {
   "cell_type": "code",
   "execution_count": 3,
   "metadata": {},
   "outputs": [],
   "source": [
    "for no in range(Nof):\n",
    "    for y in range(Noy):\n",
    "        for x in range(Nox):\n",
    "            for ni in range (Nif):\n",
    "                for ky in range(Nky):\n",
    "                    for kx in range(Nkx):\n",
    "                        output[no][x][y]+=input[ni][s*x+kx][s*y+ky] * weight[ni][no][kx][ky]\n",
    "                        #print(\"input \", input)\n",
    "                        #print(\"output \",output)\n",
    "                        #print(\"weight \",weight)\n",
    "                        cycle+=1"
   ]
  },
  {
   "cell_type": "code",
   "execution_count": 4,
   "metadata": {},
   "outputs": [
    {
     "name": "stdout",
     "output_type": "stream",
     "text": [
      "324\n"
     ]
    }
   ],
   "source": [
    "print(cycle)"
   ]
  },
  {
   "cell_type": "code",
   "execution_count": 5,
   "metadata": {},
   "outputs": [
    {
     "name": "stdout",
     "output_type": "stream",
     "text": [
      "tensor([[[-2.9378e-04,  6.3705e-01,  1.5318e+00, -1.8211e+00, -1.1400e+00],\n",
      "         [ 3.2860e-03, -1.4289e+00, -6.3217e-01, -1.3336e+00, -8.0581e-01],\n",
      "         [-6.0075e-01,  8.7936e-01,  1.2268e+00, -2.7594e+00,  1.0773e+00],\n",
      "         [-1.2647e+00,  4.1384e-01, -1.2948e+00, -5.3020e-01,  1.6879e+00],\n",
      "         [ 3.8896e-01, -2.1817e-01,  1.1991e+00,  1.6991e+00, -1.4263e-01]]])\n"
     ]
    }
   ],
   "source": [
    "print(input)"
   ]
  },
  {
   "cell_type": "code",
   "execution_count": 6,
   "metadata": {},
   "outputs": [
    {
     "name": "stdout",
     "output_type": "stream",
     "text": [
      "tensor([[[[-0.3823, -2.1228, -1.3695],\n",
      "          [ 2.5691,  0.5481, -0.3218],\n",
      "          [-0.2962,  2.4550,  0.0549]],\n",
      "\n",
      "         [[-0.8323, -1.1284, -0.4434],\n",
      "          [ 1.0537, -2.0080,  0.9542],\n",
      "          [-0.5456,  1.1781,  0.3317]],\n",
      "\n",
      "         [[-0.0973, -0.0699, -0.4533],\n",
      "          [ 1.2137, -0.2818,  0.5736],\n",
      "          [-1.3787, -0.1333, -0.0278]],\n",
      "\n",
      "         [[ 0.9722,  0.7203,  0.8753],\n",
      "          [ 0.9977, -0.8187, -0.4336],\n",
      "          [ 0.3250, -1.7569,  1.6287]]]])\n"
     ]
    }
   ],
   "source": [
    "print(weight)"
   ]
  },
  {
   "cell_type": "code",
   "execution_count": 7,
   "metadata": {},
   "outputs": [
    {
     "name": "stdout",
     "output_type": "stream",
     "text": [
      "tensor([[[-1.6171, -1.9900, -4.3330],\n",
      "         [ 3.7611,  4.2038,  4.6434],\n",
      "         [-6.5076,  4.4645,  3.5616]],\n",
      "\n",
      "        [[ 2.6425, -2.9099, -1.0346],\n",
      "         [ 1.4098, -3.6028, 10.8916],\n",
      "         [-4.5067,  3.7327,  4.2262]],\n",
      "\n",
      "        [[-0.0179, -2.9638, -1.7122],\n",
      "         [ 1.8372, -0.4567,  5.2132],\n",
      "         [-3.4938,  1.7362, -2.7444]],\n",
      "\n",
      "        [[ 3.5045, -6.5651,  6.9915],\n",
      "         [-6.6773, -0.3969,  3.9952],\n",
      "         [ 2.5467,  1.6155, -4.2692]]])\n"
     ]
    }
   ],
   "source": [
    "print(output)"
   ]
  }
 ],
 "metadata": {
  "kernelspec": {
   "display_name": "kws_env",
   "language": "python",
   "name": "python3"
  },
  "language_info": {
   "codemirror_mode": {
    "name": "ipython",
    "version": 3
   },
   "file_extension": ".py",
   "mimetype": "text/x-python",
   "name": "python",
   "nbconvert_exporter": "python",
   "pygments_lexer": "ipython3",
   "version": "3.12.7"
  }
 },
 "nbformat": 4,
 "nbformat_minor": 2
}
