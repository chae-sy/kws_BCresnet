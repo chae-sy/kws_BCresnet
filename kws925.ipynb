{
 "cells": [
  {
   "cell_type": "code",
   "execution_count": 1,
   "id": "4523eb1c-2c49-4bcc-b241-79505cf6df40",
   "metadata": {
    "execution": {
     "iopub.execute_input": "2024-09-01T06:58:31.116056Z",
     "iopub.status.busy": "2024-09-01T06:58:31.115054Z",
     "iopub.status.idle": "2024-09-01T06:58:45.842613Z",
     "shell.execute_reply": "2024-09-01T06:58:45.841610Z",
     "shell.execute_reply.started": "2024-09-01T06:58:31.116056Z"
    }
   },
   "outputs": [
    {
     "data": {
      "text/plain": [
       "True"
      ]
     },
     "execution_count": 1,
     "metadata": {},
     "output_type": "execute_result"
    }
   ],
   "source": [
    "import torch\n",
    "torch.cuda.is_available()"
   ]
  },
  {
   "cell_type": "code",
   "execution_count": 2,
   "id": "5c933b02-15e4-4485-9771-ce7fde1d578b",
   "metadata": {
    "execution": {
     "iopub.execute_input": "2024-09-01T06:58:48.046392Z",
     "iopub.status.busy": "2024-09-01T06:58:48.045388Z",
     "iopub.status.idle": "2024-09-01T06:58:51.317733Z",
     "shell.execute_reply": "2024-09-01T06:58:51.315729Z",
     "shell.execute_reply.started": "2024-09-01T06:58:48.046392Z"
    }
   },
   "outputs": [],
   "source": [
    "import torch\n",
    "import torch.nn as nn\n",
    "import torch.nn.functional as F\n",
    "import torch.optim as optim\n",
    "import torchaudio\n",
    "import sys\n",
    "import random\n",
    "\n",
    "import matplotlib.pyplot as plt\n",
    "import IPython.display as ipd\n",
    "\n",
    "from tqdm import tqdm"
   ]
  },
  {
   "cell_type": "code",
   "execution_count": 3,
   "id": "44cc87c2-847b-4a0b-b2f0-61316dae8e96",
   "metadata": {
    "execution": {
     "iopub.execute_input": "2024-09-01T06:58:58.669218Z",
     "iopub.status.busy": "2024-09-01T06:58:58.666219Z",
     "iopub.status.idle": "2024-09-01T06:58:58.680048Z",
     "shell.execute_reply": "2024-09-01T06:58:58.677852Z",
     "shell.execute_reply.started": "2024-09-01T06:58:58.669218Z"
    }
   },
   "outputs": [
    {
     "name": "stdout",
     "output_type": "stream",
     "text": [
      "cuda\n"
     ]
    }
   ],
   "source": [
    "device = torch.device(\"cuda\" if torch.cuda.is_available() else \"cpu\")\n",
    "print(device)"
   ]
  },
  {
   "cell_type": "code",
   "execution_count": 4,
   "id": "2c11bd9f-71ad-4de8-9f6e-ee2772b6778e",
   "metadata": {
    "execution": {
     "iopub.execute_input": "2024-09-01T06:59:01.249922Z",
     "iopub.status.busy": "2024-09-01T06:59:01.248922Z",
     "iopub.status.idle": "2024-09-01T06:59:01.280125Z",
     "shell.execute_reply": "2024-09-01T06:59:01.279122Z",
     "shell.execute_reply.started": "2024-09-01T06:59:01.249922Z"
    }
   },
   "outputs": [],
   "source": [
    "# dataset 나누기\n",
    "\n",
    "import os\n",
    "import random\n",
    "#random.seed(10)\n",
    "import torchaudio\n",
    "import torch\n",
    "from torch.utils.data import Dataset\n",
    "\n",
    "class SpeechCommandsDataset(Dataset):\n",
    "    def __init__(self, dataset_path, keywords, subset, unknown_label, sample_ratio=0.2, noise_label='_background_noise_', num_noise_samples=100):\n",
    "        self.dataset_path = dataset_path\n",
    "        self.keywords = keywords\n",
    "        self.unknown_label = unknown_label\n",
    "        self.noise_label = noise_label\n",
    "        self.num_noise_samples = num_noise_samples\n",
    "        self.all_classes =self.unknown_label+ self.keywords +  [self.noise_label]\n",
    "        self.subset = subset\n",
    "        self.sample_ratio = sample_ratio\n",
    "\n",
    "        self.keywords_to_index=['unknown']+self.keywords+[self.noise_label]\n",
    "        \n",
    "        \n",
    "        # Load lists for validation and test datasets\n",
    "        self.validation_list = self._load_file_list(os.path.join(dataset_path, 'validation_list.txt'))\n",
    "        self.testing_list = self._load_file_list(os.path.join(dataset_path, 'testing_list.txt'))\n",
    "\n",
    "        self.audio_files = []\n",
    "        self.labels = []\n",
    "        self.background_noises = []\n",
    "        unknown_files = []\n",
    "\n",
    "        # Load all audio files and corresponding labels\n",
    "        for root, dirs, files in os.walk(dataset_path):\n",
    "            label = os.path.basename(root)\n",
    "            if label in self.all_classes:\n",
    "                for file in files:\n",
    "                    if file.endswith('.wav'):\n",
    "                        file_path = os.path.join(root, file)\n",
    "                        file_path = r\"{}\".format(file_path)\n",
    "                        if label == noise_label: #noise append -> (txt에 있으면) unknown에 append + (txt에 있으면) audio_file에 append\n",
    "                            self.background_noises.append(file_path)\n",
    "                        else:\n",
    "                            if label not in self.keywords: #지정 keyword (10개) 중 없는 경우 -> unknown 할당\n",
    "                                label = 'unknown'\n",
    "                                if self._is_in_subset(file_path):\n",
    "                                    unknown_files.append((file_path, label))\n",
    "                            else: \n",
    "                                if self._is_in_subset(file_path):\n",
    "                                    self.audio_files.append(file_path)\n",
    "                                    self.labels.append(label)\n",
    "\n",
    "        # unknown class data를 sample_ratio(default=0.2) 비율로 sampling\n",
    "        if unknown_files:\n",
    "            total_desired_unknowns = int((len(self.audio_files) / (1 - self.sample_ratio)) * self.sample_ratio)\n",
    "            if total_desired_unknowns < len(unknown_files):\n",
    "                unknown_files = random.sample(unknown_files, total_desired_unknowns)\n",
    "\n",
    "        # Add the sampled unknown files to the dataset\n",
    "        for file_path, label in unknown_files:\n",
    "            self.audio_files.append(file_path)\n",
    "            self.labels.append(label)\n",
    "\n",
    "        # Generate random slices of background noise\n",
    "        self.noise_samples = []\n",
    "        for _ in range(num_noise_samples):\n",
    "            noise_path = random.choice(self.background_noises)\n",
    "            waveform, sample_rate = torchaudio.load(noise_path)\n",
    "            max_offset = waveform.size(1) - sample_rate\n",
    "            offset = random.randint(0, max_offset)\n",
    "            noise_slice = waveform[:, offset:offset + sample_rate]\n",
    "            self.noise_samples.append(noise_slice)\n",
    "\n",
    "    def _load_file_list(self, file_path):\n",
    "        with open(file_path, 'r') as f:\n",
    "            file_list = f.read().splitlines()\n",
    "        return set(file_list)\n",
    "\n",
    "    def _is_in_subset(self, file_path):\n",
    "        relative_path = os.path.relpath(file_path, self.dataset_path)\n",
    "        relative_path = relative_path.replace('\\\\', '/')\n",
    "        if self.subset == 'train':\n",
    "            return relative_path not in self.validation_list and relative_path not in self.testing_list\n",
    "        elif self.subset == 'validation':\n",
    "            return relative_path in self.validation_list\n",
    "        elif self.subset == 'test':\n",
    "            return relative_path in self.testing_list\n",
    "        else:\n",
    "            raise ValueError(\"Subset must be one of ['train', 'validation', 'test']\")\n",
    "\n",
    "    def _pad_waveform(self, waveform, target_length=16000):\n",
    "      current_length = waveform.shape[1]\n",
    "      if current_length < target_length:\n",
    "        pad_amount = target_length - current_length\n",
    "        padding = torch.zeros((waveform.shape[0], pad_amount))  # (channels, pad_amount)\n",
    "        waveform = torch.cat((waveform, padding), dim=1)\n",
    "      return waveform\n",
    "\n",
    "\n",
    "    def __len__(self):\n",
    "        return len(self.audio_files) + self.num_noise_samples\n",
    "\n",
    "    def __getitem__(self, idx):\n",
    "\n",
    "        #classes=self.all_classes ## to be fixed\n",
    "        if idx < len(self.audio_files):\n",
    "            file_path = self.audio_files[idx]\n",
    "            label = self.labels[idx]\n",
    "            label_index=self.keywords_to_index.index(label) # label to index\n",
    "            waveform, sample_rate = torchaudio.load(file_path)\n",
    "            waveform=self._pad_waveform(waveform) #padding\n",
    "            filename = os.path.basename(file_path)\n",
    "            speaker_id, utterance_number=tuple(filename.split('_nohash_'))\n",
    "            utterance_number=utterance_number.split('.')[0]\n",
    "        else:\n",
    "            noise_idx = idx - len(self.audio_files)\n",
    "            waveform = self.noise_samples[noise_idx-1]\n",
    "            sample_rate = waveform.shape[1]\n",
    "            label = self.noise_label\n",
    "            label_index=self.keywords_to_index.index(label) # label to index\n",
    "            speaker_id= None\n",
    "            utterance_number=None\n",
    "\n",
    "        return waveform, sample_rate, label_index, speaker_id, utterance_number\n",
    "\n",
    "\n"
   ]
  },
  {
   "cell_type": "code",
   "execution_count": 5,
   "id": "dfc0ce96-d963-45d8-b8c7-95c0b5610d6d",
   "metadata": {
    "execution": {
     "iopub.execute_input": "2024-08-27T08:21:07.658854Z",
     "iopub.status.busy": "2024-08-27T08:21:07.656639Z",
     "iopub.status.idle": "2024-08-27T08:21:16.956727Z",
     "shell.execute_reply": "2024-08-27T08:21:16.955430Z",
     "shell.execute_reply.started": "2024-08-27T08:21:07.658854Z"
    }
   },
   "outputs": [],
   "source": [
    "from torchaudio.datasets import SPEECHCOMMANDS\n",
    "\n",
    "dataset = SPEECHCOMMANDS(root=\"./\", download=True)"
   ]
  },
  {
   "cell_type": "code",
   "execution_count": 6,
   "id": "6c850f48-a6e5-47c8-aabe-e8954cc22c26",
   "metadata": {
    "execution": {
     "iopub.execute_input": "2024-09-01T06:59:05.599408Z",
     "iopub.status.busy": "2024-09-01T06:59:05.597365Z",
     "iopub.status.idle": "2024-09-01T06:59:56.888239Z",
     "shell.execute_reply": "2024-09-01T06:59:56.793398Z",
     "shell.execute_reply.started": "2024-09-01T06:59:05.599408Z"
    }
   },
   "outputs": [],
   "source": [
    "# Usage\n",
    "dataset_path = r'SpeechCommands\\speech_commands_v0.02'\n",
    "unknown_label='backward, bed, bird, cat, dog, eight, five, follow, forward, four, happy, house, learn, marvin, nine, one, seven, sheila, six, three, tree, two, visual, wow, zero'.split(', ')\n",
    "keywords = 'yes, no, up, down, left, right, on, off, stop, go'.split(', ')\n",
    "num_noise_samples = 2000\n",
    "\n",
    "if (len(unknown_label)+len(keywords)==35): #unknown과 keyword가 합쳐서 35개 되는지 확인\n",
    "  # Train dataset\n",
    "  train_set = SpeechCommandsDataset(dataset_path, keywords, unknown_label=unknown_label, subset='train', num_noise_samples=num_noise_samples)\n",
    "\n",
    "  # Validation dataset\n",
    "  #val_set = SpeechCommandsDataset(dataset_path, keywords, unknown_label=unknown_label, subset='validation', num_noise_samples=num_noise_samples)\n",
    "\n",
    "  # Test dataset\n",
    "  test_set = SpeechCommandsDataset(dataset_path, keywords, unknown_label=unknown_label, subset='test', num_noise_samples=num_noise_samples)\n",
    "else: print(\"Error\")\n",
    "\n",
    "waveform, sample_rate, label, speaker_id, utterance_number = train_set[0]"
   ]
  },
  {
   "cell_type": "code",
   "execution_count": 7,
   "id": "3fd04fca-1420-4d5f-ab7b-4b5bc54931c0",
   "metadata": {
    "execution": {
     "iopub.execute_input": "2024-09-01T07:00:01.419361Z",
     "iopub.status.busy": "2024-09-01T07:00:01.418360Z",
     "iopub.status.idle": "2024-09-01T07:00:01.488701Z",
     "shell.execute_reply": "2024-09-01T07:00:01.487696Z",
     "shell.execute_reply.started": "2024-09-01T07:00:01.419361Z"
    }
   },
   "outputs": [
    {
     "name": "stdout",
     "output_type": "stream",
     "text": [
      "train_set 개수 : 40461, test_set 개수 : 7092\n"
     ]
    }
   ],
   "source": [
    "print(\"train_set 개수 : {:}, test_set 개수 : {:}\".format(len(train_set), len(test_set)))"
   ]
  },
  {
   "cell_type": "code",
   "execution_count": 8,
   "id": "5ae16993-a9f6-49a3-942d-81ec19060568",
   "metadata": {
    "execution": {
     "iopub.execute_input": "2024-08-30T02:16:47.005965Z",
     "iopub.status.busy": "2024-08-30T02:16:47.005965Z",
     "iopub.status.idle": "2024-08-30T02:17:03.243215Z",
     "shell.execute_reply": "2024-08-30T02:17:03.242206Z",
     "shell.execute_reply.started": "2024-08-30T02:16:47.005965Z"
    }
   },
   "outputs": [
    {
     "name": "stdout",
     "output_type": "stream",
     "text": [
      "Label: 0, Count: 1018\n",
      "Label: 1, Count: 419\n",
      "Label: 2, Count: 405\n",
      "Label: 3, Count: 425\n",
      "Label: 4, Count: 406\n",
      "Label: 5, Count: 412\n",
      "Label: 6, Count: 396\n",
      "Label: 7, Count: 396\n",
      "Label: 8, Count: 402\n",
      "Label: 9, Count: 411\n",
      "Label: 10, Count: 402\n",
      "Label: 11, Count: 2001\n"
     ]
    }
   ],
   "source": [
    "from collections import Counter\n",
    "\n",
    "label_list = []\n",
    "for _, _, label, _, _ in test_set:\n",
    "    label_list.append(label)\n",
    "\n",
    "label_counts = Counter(label_list)\n",
    "\n",
    "# 라벨과 개수 오름차순으로 출력\n",
    "for label in sorted(label_counts.keys()):\n",
    "    print(f\"Label: {label}, Count: {label_counts[label]}\")"
   ]
  },
  {
   "cell_type": "code",
   "execution_count": 9,
   "id": "4d48c280-d6b4-4c90-8f3d-ee1c46ad90e3",
   "metadata": {
    "execution": {
     "iopub.execute_input": "2024-09-01T07:00:05.538468Z",
     "iopub.status.busy": "2024-09-01T07:00:05.537466Z",
     "iopub.status.idle": "2024-09-01T07:00:06.978705Z",
     "shell.execute_reply": "2024-09-01T07:00:06.977700Z",
     "shell.execute_reply.started": "2024-09-01T07:00:05.538468Z"
    }
   },
   "outputs": [
    {
     "name": "stdout",
     "output_type": "stream",
     "text": [
      "Shape of waveform: torch.Size([1, 16000])\n",
      "Sample rate of waveform: 16000\n"
     ]
    },
    {
     "data": {
      "image/png": "[encoded data removed]",
      "text/plain": [
       "<Figure size 640x480 with 1 Axes>"
      ]
     },
     "metadata": {},
     "output_type": "display_data"
    }
   ],
   "source": [
    "print(\"Shape of waveform: {}\".format(waveform.size()))\n",
    "print(\"Sample rate of waveform: {}\".format(sample_rate))\n",
    "\n",
    "plt.plot(waveform.t().numpy());"
   ]
  },
  {
   "cell_type": "code",
   "execution_count": 10,
   "id": "0b7b9107-ec23-4e87-803c-6e142aaf5515",
   "metadata": {
    "execution": {
     "iopub.execute_input": "2024-09-01T07:00:45.404077Z",
     "iopub.status.busy": "2024-09-01T07:00:45.403103Z",
     "iopub.status.idle": "2024-09-01T07:00:47.000268Z",
     "shell.execute_reply": "2024-09-01T07:00:46.999182Z",
     "shell.execute_reply.started": "2024-09-01T07:00:45.404077Z"
    }
   },
   "outputs": [
    {
     "name": "stdout",
     "output_type": "stream",
     "text": [
      "size of spectrogram: torch.Size([40, 61])\n"
     ]
    },
    {
     "data": {
      "image/png": "[encoded data removed]",
      "text/plain": [
       "<Figure size 640x480 with 1 Axes>"
      ]
     },
     "metadata": {},
     "output_type": "display_data"
    }
   ],
   "source": [
    "# spectrogram 변환\n",
    "def sp_transform(waveform):\n",
    "\n",
    "  waveform = waveform.cpu()\n",
    "\n",
    "  spectrogram_transform = torchaudio.transforms.MelSpectrogram(sample_rate = 16000, win_length = 512, n_fft = 512, hop_length = 256, n_mels = 40, center=False)\n",
    "  spectrogram = spectrogram_transform(waveform)\n",
    "  epsilon = 1e-6\n",
    "  spectrogram = spectrogram + epsilon\n",
    "  spectrogram = spectrogram.log2()\n",
    "\n",
    "  spectrogram = spectrogram.to(device)\n",
    "  return spectrogram\n",
    "\n",
    "sp = sp_transform(waveform)[0]\n",
    "plt.imshow(sp.cpu().numpy(), aspect='auto')\n",
    "print(\"size of spectrogram: {:}\".format(sp.shape))"
   ]
  },
  {
   "cell_type": "code",
   "execution_count": 11,
   "id": "c28f38e0-8315-42f0-8c8a-8eb7bc722e06",
   "metadata": {
    "execution": {
     "iopub.execute_input": "2024-09-01T07:01:45.930375Z",
     "iopub.status.busy": "2024-09-01T07:01:45.929375Z",
     "iopub.status.idle": "2024-09-01T07:01:45.946778Z",
     "shell.execute_reply": "2024-09-01T07:01:45.945774Z",
     "shell.execute_reply.started": "2024-09-01T07:01:45.930375Z"
    }
   },
   "outputs": [],
   "source": [
    "#데이터 길이 맞춰주기 위해 padding\n",
    "def pad_sequence(batch):\n",
    "    # Make all tensor in a batch the same length by padding with zeros\n",
    "    batch = [item.t() for item in batch]\n",
    "    batch = torch.nn.utils.rnn.pad_sequence(batch, batch_first=True, padding_value=0.)\n",
    "    return batch.permute(0, 2, 1)\n",
    "\n",
    "\n",
    "# data중 waveform, label(index로 된)를 각각 tensor, target에 추가\n",
    "def collate_fn(batch):\n",
    "\n",
    "    # A data tuple has the form:\n",
    "    # waveform, sample_rate, label, speaker_id, utterance_number\n",
    "\n",
    "    tensors, targets = [], []\n",
    "\n",
    "    # Gather in lists, and encode labels as indices\n",
    "    for waveform, _, label, *_ in batch:\n",
    "        tensors += [waveform]\n",
    "        targets += [label]\n",
    "\n",
    "    # Group the list of tensors into a batched tensor\n",
    "    tensors = pad_sequence(tensors)\n",
    "    targets = torch.tensor(targets)\n",
    "    return tensors, targets\n",
    "\n",
    "\n",
    "# train, test 위한 data batch_size로 나눔\n",
    "batch_size = 128\n",
    "\n",
    "if device == \"cuda\":\n",
    "    num_workers = 1\n",
    "    pin_memory = True\n",
    "else:\n",
    "    num_workers = 0\n",
    "    pin_memory = False\n",
    "\n",
    "train_loader = torch.utils.data.DataLoader(\n",
    "    train_set,\n",
    "    batch_size=batch_size,\n",
    "    shuffle=True,\n",
    "    collate_fn=collate_fn,\n",
    "    num_workers=num_workers,\n",
    "    pin_memory=pin_memory,\n",
    ")\n",
    "test_loader = torch.utils.data.DataLoader(\n",
    "    test_set,\n",
    "    batch_size=batch_size,\n",
    "    shuffle=False,\n",
    "    drop_last=False,\n",
    "    collate_fn=collate_fn,\n",
    "    num_workers=num_workers,\n",
    "    pin_memory=pin_memory,\n",
    ")"
   ]
  },
  {
   "cell_type": "code",
   "execution_count": 12,
   "id": "29d84d37-d216-4438-9312-c8bc8ef8b04e",
   "metadata": {
    "execution": {
     "iopub.execute_input": "2024-09-01T07:01:49.673228Z",
     "iopub.status.busy": "2024-09-01T07:01:49.672256Z",
     "iopub.status.idle": "2024-09-01T07:01:49.734365Z",
     "shell.execute_reply": "2024-09-01T07:01:49.732362Z",
     "shell.execute_reply.started": "2024-09-01T07:01:49.673228Z"
    }
   },
   "outputs": [],
   "source": [
    "# Copyright (c) 2023 Qualcomm Technologies, Inc.\n",
    "# All Rights Reserved.\n",
    "\n",
    "import torch.nn.functional as F\n",
    "from torch import nn\n",
    "\n",
    "\n",
    "\n",
    "class ConvBNReLU(nn.Module):\n",
    "    def __init__(\n",
    "        self,\n",
    "        in_plane,\n",
    "        out_plane,\n",
    "        idx,\n",
    "        kernel_size=3,\n",
    "        stride=1,\n",
    "        groups=1,\n",
    "        use_dilation=False,\n",
    "        activation=True,\n",
    "        swish=False,\n",
    "        BN=True,\n",
    "        ssn=False,\n",
    "    ):\n",
    "        super().__init__()\n",
    "\n",
    "        def get_padding(kernel_size, use_dilation):\n",
    "            rate = 1  # dilation rate\n",
    "            padding_len = (kernel_size - 1) // 2\n",
    "            if use_dilation and kernel_size > 1:\n",
    "                rate = int(2**self.idx)\n",
    "                padding_len = rate * padding_len\n",
    "            return padding_len, rate\n",
    "\n",
    "        self.idx = idx\n",
    "\n",
    "        # padding and dilation rate\n",
    "        if isinstance(kernel_size, (list, tuple)):\n",
    "            padding = []\n",
    "            rate = []\n",
    "            for k_size in kernel_size:\n",
    "                temp_padding, temp_rate = get_padding(k_size, use_dilation)\n",
    "                rate.append(temp_rate)\n",
    "                padding.append(temp_padding)\n",
    "        else:\n",
    "            padding, rate = get_padding(kernel_size, use_dilation)\n",
    "\n",
    "        #convbnrelu block\n",
    "        layers = []\n",
    "        layers.append(\n",
    "            nn.Conv2d(in_plane, out_plane, kernel_size, stride, (0,0), rate, groups, bias=False)\n",
    "        )\n",
    "        if ssn:\n",
    "            if idx==1:\n",
    "                layers.append(SubSpectralNorm(out_plane, spec_groups=4))\n",
    "            else:\n",
    "                layers.append(SubSpectralNorm(out_plane, spec_groups=3))\n",
    "        elif BN:\n",
    "            layers.append(nn.BatchNorm2d(out_plane))\n",
    "        if swish:\n",
    "            layers.append(nn.SiLU(True))\n",
    "        elif activation:\n",
    "            layers.append(nn.ReLU6(True))\n",
    "        self.block = nn.Sequential(*layers)\n",
    "\n",
    "    def forward(self, x):\n",
    "        return self.block(x)\n",
    "\n",
    "\n",
    "class BCResBlock(nn.Module):\n",
    "    def __init__(self, in_plane, out_plane, idx, stride):\n",
    "        super().__init__()\n",
    "        self.transition_block = in_plane != out_plane\n",
    "        kernel_size = (3, 3)\n",
    "\n",
    "        # 2D part (f2)\n",
    "        layers = []\n",
    "        if self.transition_block:\n",
    "            layers.append(ConvBNReLU(in_plane, out_plane, idx, 1, 1))\n",
    "            in_plane = out_plane\n",
    "        layers.append(\n",
    "            ConvBNReLU(\n",
    "                in_plane,\n",
    "                out_plane,\n",
    "                idx,\n",
    "                (kernel_size[0], 1),\n",
    "                (2, 1),\n",
    "                groups=in_plane,\n",
    "                use_dilation=False,\n",
    "                ssn=True, # modified\n",
    "                activation=False,\n",
    "            )\n",
    "        )\n",
    "        self.f2 = nn.Sequential(*layers)\n",
    "        self.avg_gpool = nn.AdaptiveAvgPool2d((1, 61))\n",
    "\n",
    "        # 1D part (f1)\n",
    "        self.f1 = nn.Sequential(\n",
    "            ConvBNReLU(\n",
    "                out_plane,\n",
    "                out_plane,\n",
    "                idx,\n",
    "                (1, kernel_size[1]),\n",
    "                (1, 1),\n",
    "                groups=out_plane,\n",
    "                swish=False,\n",
    "                use_dilation=False,\n",
    "            ),\n",
    "            nn.Conv2d(out_plane, out_plane, 1, bias=False), # is this necessary?\n",
    "            nn.Dropout2d(0.1),\n",
    "        )\n",
    "\n",
    "    def forward(self, x):\n",
    "        # 2D part\n",
    "        shortcut = x\n",
    "        x = self.f2(x)\n",
    "        aux_2d_res = x\n",
    "        x = self.avg_gpool(x)\n",
    "\n",
    "        # 1D part\n",
    "        x = self.f1(x)\n",
    "        x = x + aux_2d_res\n",
    "        if not self.transition_block:\n",
    "            x = x + shortcut\n",
    "        x = F.relu6(x, True)\n",
    "        return x\n",
    "\n",
    "\n",
    "def BCBlockStage(num_layers, last_channel, cur_channel, idx, use_stride):\n",
    "    stage = nn.ModuleList()\n",
    "    channels = [last_channel] + [cur_channel] * num_layers\n",
    "    for i in range(num_layers):\n",
    "        stride = (2, 1) if use_stride and i == 0 else (1, 1)\n",
    "        stage.append(BCResBlock(channels[i], channels[i + 1], idx, stride))\n",
    "    return stage\n",
    "\n",
    "\n",
    "class BCResNets(nn.Module):\n",
    "    def __init__(self, base_c, num_classes=12):\n",
    "        super().__init__()\n",
    "        self.num_classes = num_classes\n",
    "        self.n = [1, 1, 1]  # identical modules repeated n times\n",
    "        self.c = [\n",
    "            int(base_c * 2),\n",
    "            base_c,\n",
    "            int(base_c * 2),\n",
    "            base_c * 3,\n",
    "            #int(base_c * 2.5),\n",
    "            base_c * 4,\n",
    "        ]  # num channels\n",
    "        self.s = []  # stage using stride\n",
    "        self._build_network()\n",
    "\n",
    "    def _build_network(self):\n",
    "        # Head: (Conv-BN-ReLU)\n",
    "        self.cnn_head = nn.Sequential(\n",
    "            nn.Conv2d(1, self.c[0], 3, (1, 1), 0, bias=False), #padding=2\n",
    "            nn.BatchNorm2d(self.c[0]),\n",
    "            nn.ReLU6(True),\n",
    "        )\n",
    "        # Body: BC-ResBlocks\n",
    "        self.BCBlocks = nn.ModuleList([])\n",
    "        for idx, n in enumerate(self.n):\n",
    "            use_stride = idx in self.s\n",
    "            self.BCBlocks.append(BCBlockStage(n, self.c[idx], self.c[idx + 1], idx, use_stride))\n",
    "\n",
    "        # Classifier\n",
    "        self.classifier = nn.Sequential(\n",
    "            #nn.Conv2d(\n",
    "            #    self.c[-2], self.c[-2], (5, 5), bias=False, groups=self.c[-2], padding=(0, 2)\n",
    "            #),\n",
    "            #nn.Conv2d(self.c[-2], self.c[-1], 1, bias=False),\n",
    "            #nn.BatchNorm2d(self.c[-1]),\n",
    "            #nn.ReLU6(True),\n",
    "            #nn.AdaptiveAvgPool2d((1, 1)),\n",
    "            #nn.Conv2d(self.c[-1], self.num_classes, 1),\n",
    "\n",
    "            #nn.Conv2d(self.c[-2], self.c[-1], kernel_size=1),\n",
    "            nn.BatchNorm2d(self.c[-2]),\n",
    "            nn.Conv2d(self.c[-2], self.num_classes, kernel_size=1),\n",
    "            nn.AdaptiveAvgPool2d(1),\n",
    "        )\n",
    "\n",
    "    def forward(self, x):\n",
    "        x = self.cnn_head(x)\n",
    "        for i, num_modules in enumerate(self.n):\n",
    "            for j in range(num_modules):\n",
    "                x = self.BCBlocks[i][j](x)\n",
    "        x = self.classifier(x)\n",
    "        x = x.view(-1, x.shape[1])\n",
    "        return x\n",
    "\n",
    "class SubSpectralNorm(nn.Module):\n",
    "    def __init__(self, num_features, spec_groups=16, affine=\"Sub\", batch=True, dim=2):\n",
    "        super().__init__()\n",
    "        self.spec_groups = spec_groups\n",
    "        self.affine_all = False\n",
    "        affine_norm = False\n",
    "        if (\n",
    "            affine == \"Sub\"\n",
    "        ):  # affine transform for each sub group. use affine of torch implementation\n",
    "            affine_norm = True\n",
    "        elif affine == \"All\":\n",
    "            self.affine_all = True\n",
    "            self.weight = nn.Parameter(torch.ones((1, num_features, 1, 1)))\n",
    "            self.bias = nn.Parameter(torch.zeros((1, num_features, 1, 1)))\n",
    "        if batch:\n",
    "            self.ssnorm = nn.BatchNorm2d(num_features * spec_groups, affine=affine_norm)\n",
    "        else:\n",
    "            self.ssnorm = nn.InstanceNorm2d(num_features * spec_groups, affine=affine_norm)\n",
    "        self.sub_dim = dim\n",
    "\n",
    "    def forward(self, x):  # when dim h is frequency dimension\n",
    "        if self.sub_dim in (3, -1):\n",
    "            x = x.transpose(2, 3)\n",
    "            x = x.contiguous()\n",
    "        b, c, h, w = x.size()\n",
    "        assert h % self.spec_groups == 0\n",
    "        x = x.view(b, c * self.spec_groups, h // self.spec_groups, w) \n",
    "        x = self.ssnorm(x)\n",
    "        x = x.view(b, c, h, w)\n",
    "        if self.affine_all:\n",
    "            x = x * self.weight + self.bias\n",
    "        if self.sub_dim in (3, -1):\n",
    "            x = x.transpose(2, 3)\n",
    "            x = x.contiguous()\n",
    "        return x\n"
   ]
  },
  {
   "cell_type": "code",
   "execution_count": 13,
   "id": "cccd94bd-627e-4f10-a09b-b0be5cadfd65",
   "metadata": {
    "execution": {
     "iopub.execute_input": "2024-08-30T02:43:33.262024Z",
     "iopub.status.busy": "2024-08-30T02:43:33.261050Z",
     "iopub.status.idle": "2024-08-30T02:43:34.478292Z",
     "shell.execute_reply": "2024-08-30T02:43:34.477287Z",
     "shell.execute_reply.started": "2024-08-30T02:43:33.262024Z"
    }
   },
   "outputs": [
    {
     "data": {
      "text/plain": [
       "BCResNets(\n",
       "  (cnn_head): Sequential(\n",
       "    (0): Conv2d(1, 16, kernel_size=(3, 3), stride=(1, 1), bias=False)\n",
       "    (1): BatchNorm2d(16, eps=1e-05, momentum=0.1, affine=True, track_running_stats=True)\n",
       "    (2): ReLU6(inplace=True)\n",
       "  )\n",
       "  (BCBlocks): ModuleList(\n",
       "    (0): ModuleList(\n",
       "      (0): BCResBlock(\n",
       "        (f2): Sequential(\n",
       "          (0): ConvBNReLU(\n",
       "            (block): Sequential(\n",
       "              (0): Conv2d(16, 8, kernel_size=(1, 1), stride=(1, 1), bias=False)\n",
       "              (1): BatchNorm2d(8, eps=1e-05, momentum=0.1, affine=True, track_running_stats=True)\n",
       "              (2): ReLU6(inplace=True)\n",
       "            )\n",
       "          )\n",
       "          (1): ConvBNReLU(\n",
       "            (block): Sequential(\n",
       "              (0): Conv2d(8, 8, kernel_size=(3, 1), stride=(2, 1), groups=8, bias=False)\n",
       "              (1): SubSpectralNorm(\n",
       "                (ssnorm): BatchNorm2d(24, eps=1e-05, momentum=0.1, affine=True, track_running_stats=True)\n",
       "              )\n",
       "            )\n",
       "          )\n",
       "        )\n",
       "        (avg_gpool): AdaptiveAvgPool2d(output_size=(1, 61))\n",
       "        (f1): Sequential(\n",
       "          (0): ConvBNReLU(\n",
       "            (block): Sequential(\n",
       "              (0): Conv2d(8, 8, kernel_size=(1, 3), stride=(1, 1), groups=8, bias=False)\n",
       "              (1): BatchNorm2d(8, eps=1e-05, momentum=0.1, affine=True, track_running_stats=True)\n",
       "              (2): ReLU6(inplace=True)\n",
       "            )\n",
       "          )\n",
       "          (1): Conv2d(8, 8, kernel_size=(1, 1), stride=(1, 1), bias=False)\n",
       "          (2): Dropout2d(p=0.1, inplace=False)\n",
       "        )\n",
       "      )\n",
       "    )\n",
       "    (1): ModuleList(\n",
       "      (0): BCResBlock(\n",
       "        (f2): Sequential(\n",
       "          (0): ConvBNReLU(\n",
       "            (block): Sequential(\n",
       "              (0): Conv2d(8, 16, kernel_size=(1, 1), stride=(1, 1), bias=False)\n",
       "              (1): BatchNorm2d(16, eps=1e-05, momentum=0.1, affine=True, track_running_stats=True)\n",
       "              (2): ReLU6(inplace=True)\n",
       "            )\n",
       "          )\n",
       "          (1): ConvBNReLU(\n",
       "            (block): Sequential(\n",
       "              (0): Conv2d(16, 16, kernel_size=(3, 1), stride=(2, 1), groups=16, bias=False)\n",
       "              (1): SubSpectralNorm(\n",
       "                (ssnorm): BatchNorm2d(64, eps=1e-05, momentum=0.1, affine=True, track_running_stats=True)\n",
       "              )\n",
       "            )\n",
       "          )\n",
       "        )\n",
       "        (avg_gpool): AdaptiveAvgPool2d(output_size=(1, 61))\n",
       "        (f1): Sequential(\n",
       "          (0): ConvBNReLU(\n",
       "            (block): Sequential(\n",
       "              (0): Conv2d(16, 16, kernel_size=(1, 3), stride=(1, 1), groups=16, bias=False)\n",
       "              (1): BatchNorm2d(16, eps=1e-05, momentum=0.1, affine=True, track_running_stats=True)\n",
       "              (2): ReLU6(inplace=True)\n",
       "            )\n",
       "          )\n",
       "          (1): Conv2d(16, 16, kernel_size=(1, 1), stride=(1, 1), bias=False)\n",
       "          (2): Dropout2d(p=0.1, inplace=False)\n",
       "        )\n",
       "      )\n",
       "    )\n",
       "    (2): ModuleList(\n",
       "      (0): BCResBlock(\n",
       "        (f2): Sequential(\n",
       "          (0): ConvBNReLU(\n",
       "            (block): Sequential(\n",
       "              (0): Conv2d(16, 24, kernel_size=(1, 1), stride=(1, 1), bias=False)\n",
       "              (1): BatchNorm2d(24, eps=1e-05, momentum=0.1, affine=True, track_running_stats=True)\n",
       "              (2): ReLU6(inplace=True)\n",
       "            )\n",
       "          )\n",
       "          (1): ConvBNReLU(\n",
       "            (block): Sequential(\n",
       "              (0): Conv2d(24, 24, kernel_size=(3, 1), stride=(2, 1), groups=24, bias=False)\n",
       "              (1): SubSpectralNorm(\n",
       "                (ssnorm): BatchNorm2d(72, eps=1e-05, momentum=0.1, affine=True, track_running_stats=True)\n",
       "              )\n",
       "            )\n",
       "          )\n",
       "        )\n",
       "        (avg_gpool): AdaptiveAvgPool2d(output_size=(1, 61))\n",
       "        (f1): Sequential(\n",
       "          (0): ConvBNReLU(\n",
       "            (block): Sequential(\n",
       "              (0): Conv2d(24, 24, kernel_size=(1, 3), stride=(1, 1), groups=24, bias=False)\n",
       "              (1): BatchNorm2d(24, eps=1e-05, momentum=0.1, affine=True, track_running_stats=True)\n",
       "              (2): ReLU6(inplace=True)\n",
       "            )\n",
       "          )\n",
       "          (1): Conv2d(24, 24, kernel_size=(1, 1), stride=(1, 1), bias=False)\n",
       "          (2): Dropout2d(p=0.1, inplace=False)\n",
       "        )\n",
       "      )\n",
       "    )\n",
       "  )\n",
       "  (classifier): Sequential(\n",
       "    (0): BatchNorm2d(24, eps=1e-05, momentum=0.1, affine=True, track_running_stats=True)\n",
       "    (1): Conv2d(24, 12, kernel_size=(1, 1), stride=(1, 1))\n",
       "    (2): AdaptiveAvgPool2d(output_size=1)\n",
       "  )\n",
       ")"
      ]
     },
     "execution_count": 13,
     "metadata": {},
     "output_type": "execute_result"
    }
   ],
   "source": [
    "\n",
    "num_kw=len(keywords)\n",
    "model=BCResNets(base_c=8, num_classes=num_kw+2)\n",
    "model.to(\"cuda\")\n"
   ]
  },
  {
   "cell_type": "code",
   "execution_count": 14,
   "id": "0f576ce1",
   "metadata": {},
   "outputs": [
    {
     "name": "stdout",
     "output_type": "stream",
     "text": [
      "[INFO] Register count_convNd() for <class 'torch.nn.modules.conv.Conv2d'>.\n",
      "[INFO] Register count_normalization() for <class 'torch.nn.modules.batchnorm.BatchNorm2d'>.\n",
      "[INFO] Register zero_ops() for <class 'torch.nn.modules.activation.ReLU6'>.\n",
      "[INFO] Register zero_ops() for <class 'torch.nn.modules.container.Sequential'>.\n",
      "[INFO] Register count_adap_avgpool() for <class 'torch.nn.modules.pooling.AdaptiveAvgPool2d'>.\n",
      "number of MACs: 1563608.0, number of parameters: 2860.0\n"
     ]
    }
   ],
   "source": [
    "from thop import profile\n",
    "input = torch.randn(1, 1, 40, 61).to(device)\n",
    "macs, params = profile(model, inputs=(input, ))\n",
    "print(\"number of MACs: {:}, number of parameters: {:}\".format(macs, params))"
   ]
  },
  {
   "cell_type": "code",
   "execution_count": 15,
   "id": "fc3dee40",
   "metadata": {},
   "outputs": [
    {
     "name": "stdout",
     "output_type": "stream",
     "text": [
      "BCResNets(\n",
      "  (cnn_head): Sequential(\n",
      "    (0): Conv2d(1, 16, kernel_size=(3, 3), stride=(1, 1), bias=False)\n",
      "    (1): BatchNorm2d(16, eps=1e-05, momentum=0.1, affine=True, track_running_stats=True)\n",
      "    (2): ReLU6(inplace=True)\n",
      "  )\n",
      "  (BCBlocks): ModuleList(\n",
      "    (0): ModuleList(\n",
      "      (0): BCResBlock(\n",
      "        (f2): Sequential(\n",
      "          (0): ConvBNReLU(\n",
      "            (block): Sequential(\n",
      "              (0): Conv2d(16, 8, kernel_size=(1, 1), stride=(1, 1), bias=False)\n",
      "              (1): BatchNorm2d(8, eps=1e-05, momentum=0.1, affine=True, track_running_stats=True)\n",
      "              (2): ReLU6(inplace=True)\n",
      "            )\n",
      "          )\n",
      "          (1): ConvBNReLU(\n",
      "            (block): Sequential(\n",
      "              (0): Conv2d(8, 8, kernel_size=(3, 1), stride=(2, 1), groups=8, bias=False)\n",
      "              (1): SubSpectralNorm(\n",
      "                (ssnorm): BatchNorm2d(24, eps=1e-05, momentum=0.1, affine=True, track_running_stats=True)\n",
      "              )\n",
      "            )\n",
      "          )\n",
      "        )\n",
      "        (avg_gpool): AdaptiveAvgPool2d(output_size=(1, 61))\n",
      "        (f1): Sequential(\n",
      "          (0): ConvBNReLU(\n",
      "            (block): Sequential(\n",
      "              (0): Conv2d(8, 8, kernel_size=(1, 3), stride=(1, 1), groups=8, bias=False)\n",
      "              (1): BatchNorm2d(8, eps=1e-05, momentum=0.1, affine=True, track_running_stats=True)\n",
      "              (2): ReLU6(inplace=True)\n",
      "            )\n",
      "          )\n",
      "          (1): Conv2d(8, 8, kernel_size=(1, 1), stride=(1, 1), bias=False)\n",
      "          (2): Dropout2d(p=0.1, inplace=False)\n",
      "        )\n",
      "      )\n",
      "    )\n",
      "    (1): ModuleList(\n",
      "      (0): BCResBlock(\n",
      "        (f2): Sequential(\n",
      "          (0): ConvBNReLU(\n",
      "            (block): Sequential(\n",
      "              (0): Conv2d(8, 16, kernel_size=(1, 1), stride=(1, 1), bias=False)\n",
      "              (1): BatchNorm2d(16, eps=1e-05, momentum=0.1, affine=True, track_running_stats=True)\n",
      "              (2): ReLU6(inplace=True)\n",
      "            )\n",
      "          )\n",
      "          (1): ConvBNReLU(\n",
      "            (block): Sequential(\n",
      "              (0): Conv2d(16, 16, kernel_size=(3, 1), stride=(2, 1), groups=16, bias=False)\n",
      "              (1): SubSpectralNorm(\n",
      "                (ssnorm): BatchNorm2d(64, eps=1e-05, momentum=0.1, affine=True, track_running_stats=True)\n",
      "              )\n",
      "            )\n",
      "          )\n",
      "        )\n",
      "        (avg_gpool): AdaptiveAvgPool2d(output_size=(1, 61))\n",
      "        (f1): Sequential(\n",
      "          (0): ConvBNReLU(\n",
      "            (block): Sequential(\n",
      "              (0): Conv2d(16, 16, kernel_size=(1, 3), stride=(1, 1), groups=16, bias=False)\n",
      "              (1): BatchNorm2d(16, eps=1e-05, momentum=0.1, affine=True, track_running_stats=True)\n",
      "              (2): ReLU6(inplace=True)\n",
      "            )\n",
      "          )\n",
      "          (1): Conv2d(16, 16, kernel_size=(1, 1), stride=(1, 1), bias=False)\n",
      "          (2): Dropout2d(p=0.1, inplace=False)\n",
      "        )\n",
      "      )\n",
      "    )\n",
      "    (2): ModuleList(\n",
      "      (0): BCResBlock(\n",
      "        (f2): Sequential(\n",
      "          (0): ConvBNReLU(\n",
      "            (block): Sequential(\n",
      "              (0): Conv2d(16, 24, kernel_size=(1, 1), stride=(1, 1), bias=False)\n",
      "              (1): BatchNorm2d(24, eps=1e-05, momentum=0.1, affine=True, track_running_stats=True)\n",
      "              (2): ReLU6(inplace=True)\n",
      "            )\n",
      "          )\n",
      "          (1): ConvBNReLU(\n",
      "            (block): Sequential(\n",
      "              (0): Conv2d(24, 24, kernel_size=(3, 1), stride=(2, 1), groups=24, bias=False)\n",
      "              (1): SubSpectralNorm(\n",
      "                (ssnorm): BatchNorm2d(72, eps=1e-05, momentum=0.1, affine=True, track_running_stats=True)\n",
      "              )\n",
      "            )\n",
      "          )\n",
      "        )\n",
      "        (avg_gpool): AdaptiveAvgPool2d(output_size=(1, 61))\n",
      "        (f1): Sequential(\n",
      "          (0): ConvBNReLU(\n",
      "            (block): Sequential(\n",
      "              (0): Conv2d(24, 24, kernel_size=(1, 3), stride=(1, 1), groups=24, bias=False)\n",
      "              (1): BatchNorm2d(24, eps=1e-05, momentum=0.1, affine=True, track_running_stats=True)\n",
      "              (2): ReLU6(inplace=True)\n",
      "            )\n",
      "          )\n",
      "          (1): Conv2d(24, 24, kernel_size=(1, 1), stride=(1, 1), bias=False)\n",
      "          (2): Dropout2d(p=0.1, inplace=False)\n",
      "        )\n",
      "      )\n",
      "    )\n",
      "  )\n",
      "  (classifier): Sequential(\n",
      "    (0): BatchNorm2d(24, eps=1e-05, momentum=0.1, affine=True, track_running_stats=True)\n",
      "    (1): Conv2d(24, 12, kernel_size=(1, 1), stride=(1, 1))\n",
      "    (2): AdaptiveAvgPool2d(output_size=1)\n",
      "  )\n",
      ")\n"
     ]
    }
   ],
   "source": [
    "print(model)"
   ]
  },
  {
   "cell_type": "code",
   "execution_count": 16,
   "id": "4df8963f",
   "metadata": {},
   "outputs": [
    {
     "data": {
      "text/plain": [
       "BCResNets(\n",
       "  (cnn_head): Sequential(\n",
       "    (0): Conv2d(1, 16, kernel_size=(3, 3), stride=(1, 1), bias=False)\n",
       "    (1): BatchNorm2d(16, eps=1e-05, momentum=0.1, affine=True, track_running_stats=True)\n",
       "    (2): ReLU6(inplace=True)\n",
       "  )\n",
       "  (BCBlocks): ModuleList(\n",
       "    (0): ModuleList(\n",
       "      (0): BCResBlock(\n",
       "        (f2): Sequential(\n",
       "          (0): ConvBNReLU(\n",
       "            (block): Sequential(\n",
       "              (0): Conv2d(16, 8, kernel_size=(1, 1), stride=(1, 1), bias=False)\n",
       "              (1): BatchNorm2d(8, eps=1e-05, momentum=0.1, affine=True, track_running_stats=True)\n",
       "              (2): ReLU6(inplace=True)\n",
       "            )\n",
       "          )\n",
       "          (1): ConvBNReLU(\n",
       "            (block): Sequential(\n",
       "              (0): Conv2d(8, 8, kernel_size=(3, 1), stride=(2, 1), groups=8, bias=False)\n",
       "              (1): SubSpectralNorm(\n",
       "                (ssnorm): BatchNorm2d(24, eps=1e-05, momentum=0.1, affine=True, track_running_stats=True)\n",
       "              )\n",
       "            )\n",
       "          )\n",
       "        )\n",
       "        (avg_gpool): AdaptiveAvgPool2d(output_size=(1, 61))\n",
       "        (f1): Sequential(\n",
       "          (0): ConvBNReLU(\n",
       "            (block): Sequential(\n",
       "              (0): Conv2d(8, 8, kernel_size=(1, 3), stride=(1, 1), groups=8, bias=False)\n",
       "              (1): BatchNorm2d(8, eps=1e-05, momentum=0.1, affine=True, track_running_stats=True)\n",
       "              (2): ReLU6(inplace=True)\n",
       "            )\n",
       "          )\n",
       "          (1): Conv2d(8, 8, kernel_size=(1, 1), stride=(1, 1), bias=False)\n",
       "          (2): Dropout2d(p=0.1, inplace=False)\n",
       "        )\n",
       "      )\n",
       "    )\n",
       "    (1): ModuleList(\n",
       "      (0): BCResBlock(\n",
       "        (f2): Sequential(\n",
       "          (0): ConvBNReLU(\n",
       "            (block): Sequential(\n",
       "              (0): Conv2d(8, 16, kernel_size=(1, 1), stride=(1, 1), bias=False)\n",
       "              (1): BatchNorm2d(16, eps=1e-05, momentum=0.1, affine=True, track_running_stats=True)\n",
       "              (2): ReLU6(inplace=True)\n",
       "            )\n",
       "          )\n",
       "          (1): ConvBNReLU(\n",
       "            (block): Sequential(\n",
       "              (0): Conv2d(16, 16, kernel_size=(3, 1), stride=(2, 1), groups=16, bias=False)\n",
       "              (1): SubSpectralNorm(\n",
       "                (ssnorm): BatchNorm2d(64, eps=1e-05, momentum=0.1, affine=True, track_running_stats=True)\n",
       "              )\n",
       "            )\n",
       "          )\n",
       "        )\n",
       "        (avg_gpool): AdaptiveAvgPool2d(output_size=(1, 61))\n",
       "        (f1): Sequential(\n",
       "          (0): ConvBNReLU(\n",
       "            (block): Sequential(\n",
       "              (0): Conv2d(16, 16, kernel_size=(1, 3), stride=(1, 1), groups=16, bias=False)\n",
       "              (1): BatchNorm2d(16, eps=1e-05, momentum=0.1, affine=True, track_running_stats=True)\n",
       "              (2): ReLU6(inplace=True)\n",
       "            )\n",
       "          )\n",
       "          (1): Conv2d(16, 16, kernel_size=(1, 1), stride=(1, 1), bias=False)\n",
       "          (2): Dropout2d(p=0.1, inplace=False)\n",
       "        )\n",
       "      )\n",
       "    )\n",
       "    (2): ModuleList(\n",
       "      (0): BCResBlock(\n",
       "        (f2): Sequential(\n",
       "          (0): ConvBNReLU(\n",
       "            (block): Sequential(\n",
       "              (0): Conv2d(16, 24, kernel_size=(1, 1), stride=(1, 1), bias=False)\n",
       "              (1): BatchNorm2d(24, eps=1e-05, momentum=0.1, affine=True, track_running_stats=True)\n",
       "              (2): ReLU6(inplace=True)\n",
       "            )\n",
       "          )\n",
       "          (1): ConvBNReLU(\n",
       "            (block): Sequential(\n",
       "              (0): Conv2d(24, 24, kernel_size=(3, 1), stride=(2, 1), groups=24, bias=False)\n",
       "              (1): SubSpectralNorm(\n",
       "                (ssnorm): BatchNorm2d(72, eps=1e-05, momentum=0.1, affine=True, track_running_stats=True)\n",
       "              )\n",
       "            )\n",
       "          )\n",
       "        )\n",
       "        (avg_gpool): AdaptiveAvgPool2d(output_size=(1, 61))\n",
       "        (f1): Sequential(\n",
       "          (0): ConvBNReLU(\n",
       "            (block): Sequential(\n",
       "              (0): Conv2d(24, 24, kernel_size=(1, 3), stride=(1, 1), groups=24, bias=False)\n",
       "              (1): BatchNorm2d(24, eps=1e-05, momentum=0.1, affine=True, track_running_stats=True)\n",
       "              (2): ReLU6(inplace=True)\n",
       "            )\n",
       "          )\n",
       "          (1): Conv2d(24, 24, kernel_size=(1, 1), stride=(1, 1), bias=False)\n",
       "          (2): Dropout2d(p=0.1, inplace=False)\n",
       "        )\n",
       "      )\n",
       "    )\n",
       "  )\n",
       "  (classifier): Sequential(\n",
       "    (0): BatchNorm2d(24, eps=1e-05, momentum=0.1, affine=True, track_running_stats=True)\n",
       "    (1): Conv2d(24, 12, kernel_size=(1, 1), stride=(1, 1))\n",
       "    (2): AdaptiveAvgPool2d(output_size=1)\n",
       "  )\n",
       ")"
      ]
     },
     "execution_count": 16,
     "metadata": {},
     "output_type": "execute_result"
    }
   ],
   "source": [
    "model.train()"
   ]
  },
  {
   "cell_type": "code",
   "execution_count": 17,
   "id": "3ff9708a",
   "metadata": {},
   "outputs": [
    {
     "name": "stderr",
     "output_type": "stream",
     "text": [
      "epoch 1, iters: 100%|██████████| 317/317 [01:02<00:00,  5.04it/s]\n"
     ]
    },
    {
     "name": "stdout",
     "output_type": "stream",
     "text": [
      "Epoch 1/100 - Loss: 2.2921 - Accuracy: 20.38%\n"
     ]
    },
    {
     "name": "stderr",
     "output_type": "stream",
     "text": [
      "epoch 2, iters: 100%|██████████| 317/317 [00:37<00:00,  8.52it/s]\n"
     ]
    },
    {
     "name": "stdout",
     "output_type": "stream",
     "text": [
      "Epoch 2/100 - Loss: 1.4526 - Accuracy: 51.73%\n"
     ]
    },
    {
     "name": "stderr",
     "output_type": "stream",
     "text": [
      "epoch 3, iters: 100%|██████████| 317/317 [00:36<00:00,  8.76it/s]\n"
     ]
    },
    {
     "name": "stdout",
     "output_type": "stream",
     "text": [
      "Epoch 3/100 - Loss: 0.8166 - Accuracy: 73.56%\n"
     ]
    },
    {
     "name": "stderr",
     "output_type": "stream",
     "text": [
      "epoch 4, iters: 100%|██████████| 317/317 [00:36<00:00,  8.57it/s]\n"
     ]
    },
    {
     "name": "stdout",
     "output_type": "stream",
     "text": [
      "Epoch 4/100 - Loss: 0.6345 - Accuracy: 79.74%\n"
     ]
    },
    {
     "name": "stderr",
     "output_type": "stream",
     "text": [
      "epoch 5, iters: 100%|██████████| 317/317 [00:35<00:00,  9.00it/s]\n"
     ]
    },
    {
     "name": "stdout",
     "output_type": "stream",
     "text": [
      "Epoch 5/100 - Loss: 0.5761 - Accuracy: 81.57%\n"
     ]
    },
    {
     "name": "stderr",
     "output_type": "stream",
     "text": [
      "epoch 6, iters: 100%|██████████| 317/317 [00:35<00:00,  8.87it/s]\n"
     ]
    },
    {
     "name": "stdout",
     "output_type": "stream",
     "text": [
      "Epoch 6/100 - Loss: 0.5230 - Accuracy: 83.55%\n"
     ]
    },
    {
     "name": "stderr",
     "output_type": "stream",
     "text": [
      "epoch 7, iters: 100%|██████████| 317/317 [00:37<00:00,  8.41it/s]\n"
     ]
    },
    {
     "name": "stdout",
     "output_type": "stream",
     "text": [
      "Epoch 7/100 - Loss: 0.5282 - Accuracy: 83.28%\n"
     ]
    },
    {
     "name": "stderr",
     "output_type": "stream",
     "text": [
      "epoch 8, iters: 100%|██████████| 317/317 [00:37<00:00,  8.40it/s]\n"
     ]
    },
    {
     "name": "stdout",
     "output_type": "stream",
     "text": [
      "Epoch 8/100 - Loss: 0.4803 - Accuracy: 84.86%\n"
     ]
    },
    {
     "name": "stderr",
     "output_type": "stream",
     "text": [
      "epoch 9, iters: 100%|██████████| 317/317 [00:35<00:00,  8.93it/s]\n"
     ]
    },
    {
     "name": "stdout",
     "output_type": "stream",
     "text": [
      "Epoch 9/100 - Loss: 0.4881 - Accuracy: 84.38%\n"
     ]
    },
    {
     "name": "stderr",
     "output_type": "stream",
     "text": [
      "epoch 10, iters: 100%|██████████| 317/317 [00:36<00:00,  8.70it/s]\n"
     ]
    },
    {
     "name": "stdout",
     "output_type": "stream",
     "text": [
      "Epoch 10/100 - Loss: 0.4538 - Accuracy: 85.69%\n"
     ]
    },
    {
     "name": "stderr",
     "output_type": "stream",
     "text": [
      "epoch 11, iters: 100%|██████████| 317/317 [00:37<00:00,  8.51it/s]\n"
     ]
    },
    {
     "name": "stdout",
     "output_type": "stream",
     "text": [
      "Epoch 11/100 - Loss: 0.4627 - Accuracy: 85.18%\n"
     ]
    },
    {
     "name": "stderr",
     "output_type": "stream",
     "text": [
      "epoch 12, iters: 100%|██████████| 317/317 [00:35<00:00,  9.01it/s]\n"
     ]
    },
    {
     "name": "stdout",
     "output_type": "stream",
     "text": [
      "Epoch 12/100 - Loss: 0.4470 - Accuracy: 85.77%\n"
     ]
    },
    {
     "name": "stderr",
     "output_type": "stream",
     "text": [
      "epoch 13, iters: 100%|██████████| 317/317 [00:35<00:00,  8.90it/s]\n"
     ]
    },
    {
     "name": "stdout",
     "output_type": "stream",
     "text": [
      "Epoch 13/100 - Loss: 0.4301 - Accuracy: 86.39%\n"
     ]
    },
    {
     "name": "stderr",
     "output_type": "stream",
     "text": [
      "epoch 14, iters: 100%|██████████| 317/317 [00:37<00:00,  8.49it/s]\n"
     ]
    },
    {
     "name": "stdout",
     "output_type": "stream",
     "text": [
      "Epoch 14/100 - Loss: 0.4284 - Accuracy: 86.48%\n"
     ]
    },
    {
     "name": "stderr",
     "output_type": "stream",
     "text": [
      "epoch 15, iters: 100%|██████████| 317/317 [00:35<00:00,  8.83it/s]\n"
     ]
    },
    {
     "name": "stdout",
     "output_type": "stream",
     "text": [
      "Epoch 15/100 - Loss: 0.4159 - Accuracy: 86.72%\n"
     ]
    },
    {
     "name": "stderr",
     "output_type": "stream",
     "text": [
      "epoch 16, iters: 100%|██████████| 317/317 [00:34<00:00,  9.11it/s]\n"
     ]
    },
    {
     "name": "stdout",
     "output_type": "stream",
     "text": [
      "Epoch 16/100 - Loss: 0.4157 - Accuracy: 86.84%\n"
     ]
    },
    {
     "name": "stderr",
     "output_type": "stream",
     "text": [
      "epoch 17, iters: 100%|██████████| 317/317 [00:36<00:00,  8.60it/s]\n"
     ]
    },
    {
     "name": "stdout",
     "output_type": "stream",
     "text": [
      "Epoch 17/100 - Loss: 0.4082 - Accuracy: 87.10%\n"
     ]
    },
    {
     "name": "stderr",
     "output_type": "stream",
     "text": [
      "epoch 18, iters: 100%|██████████| 317/317 [00:37<00:00,  8.53it/s]\n"
     ]
    },
    {
     "name": "stdout",
     "output_type": "stream",
     "text": [
      "Epoch 18/100 - Loss: 0.4345 - Accuracy: 86.24%\n"
     ]
    },
    {
     "name": "stderr",
     "output_type": "stream",
     "text": [
      "epoch 19, iters: 100%|██████████| 317/317 [00:35<00:00,  9.05it/s]\n"
     ]
    },
    {
     "name": "stdout",
     "output_type": "stream",
     "text": [
      "Epoch 19/100 - Loss: 0.4259 - Accuracy: 86.66%\n"
     ]
    },
    {
     "name": "stderr",
     "output_type": "stream",
     "text": [
      "epoch 20, iters: 100%|██████████| 317/317 [00:35<00:00,  8.93it/s]\n"
     ]
    },
    {
     "name": "stdout",
     "output_type": "stream",
     "text": [
      "Epoch 20/100 - Loss: 0.4050 - Accuracy: 87.20%\n"
     ]
    },
    {
     "name": "stderr",
     "output_type": "stream",
     "text": [
      "epoch 21, iters: 100%|██████████| 317/317 [00:37<00:00,  8.54it/s]\n"
     ]
    },
    {
     "name": "stdout",
     "output_type": "stream",
     "text": [
      "Epoch 21/100 - Loss: 0.4952 - Accuracy: 84.32%\n"
     ]
    },
    {
     "name": "stderr",
     "output_type": "stream",
     "text": [
      "epoch 22, iters: 100%|██████████| 317/317 [00:35<00:00,  8.84it/s]\n"
     ]
    },
    {
     "name": "stdout",
     "output_type": "stream",
     "text": [
      "Epoch 22/100 - Loss: 0.4446 - Accuracy: 85.90%\n"
     ]
    },
    {
     "name": "stderr",
     "output_type": "stream",
     "text": [
      "epoch 23, iters: 100%|██████████| 317/317 [00:34<00:00,  9.15it/s]\n"
     ]
    },
    {
     "name": "stdout",
     "output_type": "stream",
     "text": [
      "Epoch 23/100 - Loss: 0.4284 - Accuracy: 86.38%\n"
     ]
    },
    {
     "name": "stderr",
     "output_type": "stream",
     "text": [
      "epoch 24, iters: 100%|██████████| 317/317 [00:36<00:00,  8.67it/s]\n"
     ]
    },
    {
     "name": "stdout",
     "output_type": "stream",
     "text": [
      "Epoch 24/100 - Loss: 0.4218 - Accuracy: 86.77%\n"
     ]
    },
    {
     "name": "stderr",
     "output_type": "stream",
     "text": [
      "epoch 25, iters: 100%|██████████| 317/317 [00:36<00:00,  8.58it/s]\n"
     ]
    },
    {
     "name": "stdout",
     "output_type": "stream",
     "text": [
      "Epoch 25/100 - Loss: 0.4335 - Accuracy: 86.34%\n"
     ]
    },
    {
     "name": "stderr",
     "output_type": "stream",
     "text": [
      "epoch 26, iters: 100%|██████████| 317/317 [00:35<00:00,  8.97it/s]\n"
     ]
    },
    {
     "name": "stdout",
     "output_type": "stream",
     "text": [
      "Epoch 26/100 - Loss: 0.4062 - Accuracy: 87.32%\n"
     ]
    },
    {
     "name": "stderr",
     "output_type": "stream",
     "text": [
      "epoch 27, iters: 100%|██████████| 317/317 [00:35<00:00,  8.86it/s]\n"
     ]
    },
    {
     "name": "stdout",
     "output_type": "stream",
     "text": [
      "Epoch 27/100 - Loss: 0.4126 - Accuracy: 87.00%\n"
     ]
    },
    {
     "name": "stderr",
     "output_type": "stream",
     "text": [
      "epoch 28, iters: 100%|██████████| 317/317 [00:37<00:00,  8.51it/s]\n"
     ]
    },
    {
     "name": "stdout",
     "output_type": "stream",
     "text": [
      "Epoch 28/100 - Loss: 0.4142 - Accuracy: 87.02%\n"
     ]
    },
    {
     "name": "stderr",
     "output_type": "stream",
     "text": [
      "epoch 29, iters: 100%|██████████| 317/317 [00:36<00:00,  8.80it/s]\n"
     ]
    },
    {
     "name": "stdout",
     "output_type": "stream",
     "text": [
      "Epoch 29/100 - Loss: 0.4082 - Accuracy: 87.08%\n"
     ]
    },
    {
     "name": "stderr",
     "output_type": "stream",
     "text": [
      "epoch 30, iters: 100%|██████████| 317/317 [00:34<00:00,  9.08it/s]\n"
     ]
    },
    {
     "name": "stdout",
     "output_type": "stream",
     "text": [
      "Epoch 30/100 - Loss: 0.3943 - Accuracy: 87.63%\n"
     ]
    },
    {
     "name": "stderr",
     "output_type": "stream",
     "text": [
      "epoch 31, iters: 100%|██████████| 317/317 [00:36<00:00,  8.76it/s]\n"
     ]
    },
    {
     "name": "stdout",
     "output_type": "stream",
     "text": [
      "Epoch 31/100 - Loss: 0.4042 - Accuracy: 87.47%\n"
     ]
    },
    {
     "name": "stderr",
     "output_type": "stream",
     "text": [
      "epoch 32, iters: 100%|██████████| 317/317 [00:37<00:00,  8.56it/s]\n"
     ]
    },
    {
     "name": "stdout",
     "output_type": "stream",
     "text": [
      "Epoch 32/100 - Loss: 0.3900 - Accuracy: 87.89%\n"
     ]
    },
    {
     "name": "stderr",
     "output_type": "stream",
     "text": [
      "epoch 33, iters: 100%|██████████| 317/317 [00:35<00:00,  9.01it/s]\n"
     ]
    },
    {
     "name": "stdout",
     "output_type": "stream",
     "text": [
      "Epoch 33/100 - Loss: 0.4193 - Accuracy: 86.68%\n"
     ]
    },
    {
     "name": "stderr",
     "output_type": "stream",
     "text": [
      "epoch 34, iters: 100%|██████████| 317/317 [00:35<00:00,  8.99it/s]\n"
     ]
    },
    {
     "name": "stdout",
     "output_type": "stream",
     "text": [
      "Epoch 34/100 - Loss: 0.4329 - Accuracy: 86.37%\n"
     ]
    },
    {
     "name": "stderr",
     "output_type": "stream",
     "text": [
      "epoch 35, iters: 100%|██████████| 317/317 [00:36<00:00,  8.66it/s]\n"
     ]
    },
    {
     "name": "stdout",
     "output_type": "stream",
     "text": [
      "Epoch 35/100 - Loss: 0.3949 - Accuracy: 87.45%\n"
     ]
    },
    {
     "name": "stderr",
     "output_type": "stream",
     "text": [
      "epoch 36, iters: 100%|██████████| 317/317 [00:36<00:00,  8.72it/s]\n"
     ]
    },
    {
     "name": "stdout",
     "output_type": "stream",
     "text": [
      "Epoch 36/100 - Loss: 0.3867 - Accuracy: 87.88%\n"
     ]
    },
    {
     "name": "stderr",
     "output_type": "stream",
     "text": [
      "epoch 37, iters: 100%|██████████| 317/317 [00:34<00:00,  9.13it/s]\n"
     ]
    },
    {
     "name": "stdout",
     "output_type": "stream",
     "text": [
      "Epoch 37/100 - Loss: 0.3999 - Accuracy: 87.43%\n"
     ]
    },
    {
     "name": "stderr",
     "output_type": "stream",
     "text": [
      "epoch 38, iters: 100%|██████████| 317/317 [00:35<00:00,  8.85it/s]\n"
     ]
    },
    {
     "name": "stdout",
     "output_type": "stream",
     "text": [
      "Epoch 38/100 - Loss: 0.3888 - Accuracy: 87.97%\n"
     ]
    },
    {
     "name": "stderr",
     "output_type": "stream",
     "text": [
      "epoch 39, iters: 100%|██████████| 317/317 [00:37<00:00,  8.56it/s]\n"
     ]
    },
    {
     "name": "stdout",
     "output_type": "stream",
     "text": [
      "Epoch 39/100 - Loss: 0.3858 - Accuracy: 88.02%\n"
     ]
    },
    {
     "name": "stderr",
     "output_type": "stream",
     "text": [
      "epoch 40, iters: 100%|██████████| 317/317 [00:35<00:00,  8.95it/s]\n"
     ]
    },
    {
     "name": "stdout",
     "output_type": "stream",
     "text": [
      "Epoch 40/100 - Loss: 0.3682 - Accuracy: 88.57%\n"
     ]
    },
    {
     "name": "stderr",
     "output_type": "stream",
     "text": [
      "epoch 41, iters: 100%|██████████| 317/317 [00:34<00:00,  9.07it/s]\n"
     ]
    },
    {
     "name": "stdout",
     "output_type": "stream",
     "text": [
      "Epoch 41/100 - Loss: 0.3815 - Accuracy: 88.18%\n"
     ]
    },
    {
     "name": "stderr",
     "output_type": "stream",
     "text": [
      "epoch 42, iters: 100%|██████████| 317/317 [00:36<00:00,  8.77it/s]\n"
     ]
    },
    {
     "name": "stdout",
     "output_type": "stream",
     "text": [
      "Epoch 42/100 - Loss: 0.3869 - Accuracy: 87.84%\n"
     ]
    },
    {
     "name": "stderr",
     "output_type": "stream",
     "text": [
      "epoch 43, iters: 100%|██████████| 317/317 [00:36<00:00,  8.60it/s]\n"
     ]
    },
    {
     "name": "stdout",
     "output_type": "stream",
     "text": [
      "Epoch 43/100 - Loss: 0.3599 - Accuracy: 88.81%\n"
     ]
    },
    {
     "name": "stderr",
     "output_type": "stream",
     "text": [
      "epoch 44, iters: 100%|██████████| 317/317 [00:34<00:00,  9.17it/s]\n"
     ]
    },
    {
     "name": "stdout",
     "output_type": "stream",
     "text": [
      "Epoch 44/100 - Loss: 0.3589 - Accuracy: 88.87%\n"
     ]
    },
    {
     "name": "stderr",
     "output_type": "stream",
     "text": [
      "epoch 45, iters: 100%|██████████| 317/317 [00:36<00:00,  8.61it/s]\n"
     ]
    },
    {
     "name": "stdout",
     "output_type": "stream",
     "text": [
      "Epoch 45/100 - Loss: 0.3631 - Accuracy: 88.59%\n"
     ]
    },
    {
     "name": "stderr",
     "output_type": "stream",
     "text": [
      "epoch 46, iters: 100%|██████████| 317/317 [00:41<00:00,  7.55it/s]\n"
     ]
    },
    {
     "name": "stdout",
     "output_type": "stream",
     "text": [
      "Epoch 46/100 - Loss: 0.3604 - Accuracy: 88.81%\n"
     ]
    },
    {
     "name": "stderr",
     "output_type": "stream",
     "text": [
      "epoch 47, iters: 100%|██████████| 317/317 [00:43<00:00,  7.33it/s]\n"
     ]
    },
    {
     "name": "stdout",
     "output_type": "stream",
     "text": [
      "Epoch 47/100 - Loss: 0.3593 - Accuracy: 88.81%\n"
     ]
    },
    {
     "name": "stderr",
     "output_type": "stream",
     "text": [
      "epoch 48, iters: 100%|██████████| 317/317 [00:43<00:00,  7.24it/s]\n"
     ]
    },
    {
     "name": "stdout",
     "output_type": "stream",
     "text": [
      "Epoch 48/100 - Loss: 0.3571 - Accuracy: 88.89%\n"
     ]
    },
    {
     "name": "stderr",
     "output_type": "stream",
     "text": [
      "epoch 49, iters: 100%|██████████| 317/317 [00:44<00:00,  7.19it/s]\n"
     ]
    },
    {
     "name": "stdout",
     "output_type": "stream",
     "text": [
      "Epoch 49/100 - Loss: 0.3537 - Accuracy: 89.00%\n"
     ]
    },
    {
     "name": "stderr",
     "output_type": "stream",
     "text": [
      "epoch 50, iters: 100%|██████████| 317/317 [00:43<00:00,  7.33it/s]\n"
     ]
    },
    {
     "name": "stdout",
     "output_type": "stream",
     "text": [
      "Epoch 50/100 - Loss: 0.3577 - Accuracy: 88.86%\n"
     ]
    },
    {
     "name": "stderr",
     "output_type": "stream",
     "text": [
      "epoch 51, iters: 100%|██████████| 317/317 [00:44<00:00,  7.10it/s]\n"
     ]
    },
    {
     "name": "stdout",
     "output_type": "stream",
     "text": [
      "Epoch 51/100 - Loss: 0.3543 - Accuracy: 89.03%\n"
     ]
    },
    {
     "name": "stderr",
     "output_type": "stream",
     "text": [
      "epoch 52, iters: 100%|██████████| 317/317 [00:44<00:00,  7.20it/s]\n"
     ]
    },
    {
     "name": "stdout",
     "output_type": "stream",
     "text": [
      "Epoch 52/100 - Loss: 0.3504 - Accuracy: 89.04%\n"
     ]
    },
    {
     "name": "stderr",
     "output_type": "stream",
     "text": [
      "epoch 53, iters: 100%|██████████| 317/317 [00:43<00:00,  7.21it/s]\n"
     ]
    },
    {
     "name": "stdout",
     "output_type": "stream",
     "text": [
      "Epoch 53/100 - Loss: 0.4233 - Accuracy: 86.76%\n"
     ]
    },
    {
     "name": "stderr",
     "output_type": "stream",
     "text": [
      "epoch 54, iters: 100%|██████████| 317/317 [00:37<00:00,  8.53it/s]\n"
     ]
    },
    {
     "name": "stdout",
     "output_type": "stream",
     "text": [
      "Epoch 54/100 - Loss: 0.3725 - Accuracy: 88.44%\n"
     ]
    },
    {
     "name": "stderr",
     "output_type": "stream",
     "text": [
      "epoch 55, iters: 100%|██████████| 317/317 [00:35<00:00,  8.87it/s]\n"
     ]
    },
    {
     "name": "stdout",
     "output_type": "stream",
     "text": [
      "Epoch 55/100 - Loss: 0.3651 - Accuracy: 88.53%\n"
     ]
    },
    {
     "name": "stderr",
     "output_type": "stream",
     "text": [
      "epoch 56, iters: 100%|██████████| 317/317 [00:36<00:00,  8.74it/s]\n"
     ]
    },
    {
     "name": "stdout",
     "output_type": "stream",
     "text": [
      "Epoch 56/100 - Loss: 0.3568 - Accuracy: 88.93%\n"
     ]
    },
    {
     "name": "stderr",
     "output_type": "stream",
     "text": [
      "epoch 57, iters: 100%|██████████| 317/317 [00:38<00:00,  8.27it/s]\n"
     ]
    },
    {
     "name": "stdout",
     "output_type": "stream",
     "text": [
      "Epoch 57/100 - Loss: 0.3608 - Accuracy: 88.68%\n"
     ]
    },
    {
     "name": "stderr",
     "output_type": "stream",
     "text": [
      "epoch 58, iters: 100%|██████████| 317/317 [00:36<00:00,  8.77it/s]\n"
     ]
    },
    {
     "name": "stdout",
     "output_type": "stream",
     "text": [
      "Epoch 58/100 - Loss: 0.3549 - Accuracy: 89.07%\n"
     ]
    },
    {
     "name": "stderr",
     "output_type": "stream",
     "text": [
      "epoch 59, iters: 100%|██████████| 317/317 [00:35<00:00,  8.91it/s]\n"
     ]
    },
    {
     "name": "stdout",
     "output_type": "stream",
     "text": [
      "Epoch 59/100 - Loss: 0.3414 - Accuracy: 89.29%\n"
     ]
    },
    {
     "name": "stderr",
     "output_type": "stream",
     "text": [
      "epoch 60, iters: 100%|██████████| 317/317 [00:37<00:00,  8.51it/s]\n"
     ]
    },
    {
     "name": "stdout",
     "output_type": "stream",
     "text": [
      "Epoch 60/100 - Loss: 0.3390 - Accuracy: 89.51%\n"
     ]
    },
    {
     "name": "stderr",
     "output_type": "stream",
     "text": [
      "epoch 61, iters: 100%|██████████| 317/317 [00:37<00:00,  8.53it/s]\n"
     ]
    },
    {
     "name": "stdout",
     "output_type": "stream",
     "text": [
      "Epoch 61/100 - Loss: 0.3394 - Accuracy: 89.49%\n"
     ]
    },
    {
     "name": "stderr",
     "output_type": "stream",
     "text": [
      "epoch 62, iters: 100%|██████████| 317/317 [00:35<00:00,  8.86it/s]\n"
     ]
    },
    {
     "name": "stdout",
     "output_type": "stream",
     "text": [
      "Epoch 62/100 - Loss: 0.3319 - Accuracy: 89.78%\n"
     ]
    },
    {
     "name": "stderr",
     "output_type": "stream",
     "text": [
      "epoch 63, iters: 100%|██████████| 317/317 [00:36<00:00,  8.73it/s]\n"
     ]
    },
    {
     "name": "stdout",
     "output_type": "stream",
     "text": [
      "Epoch 63/100 - Loss: 0.3616 - Accuracy: 88.82%\n"
     ]
    },
    {
     "name": "stderr",
     "output_type": "stream",
     "text": [
      "epoch 64, iters: 100%|██████████| 317/317 [00:37<00:00,  8.51it/s]\n"
     ]
    },
    {
     "name": "stdout",
     "output_type": "stream",
     "text": [
      "Epoch 64/100 - Loss: 0.3475 - Accuracy: 89.10%\n"
     ]
    },
    {
     "name": "stderr",
     "output_type": "stream",
     "text": [
      "epoch 65, iters: 100%|██████████| 317/317 [00:35<00:00,  8.93it/s]\n"
     ]
    },
    {
     "name": "stdout",
     "output_type": "stream",
     "text": [
      "Epoch 65/100 - Loss: 0.3382 - Accuracy: 89.45%\n"
     ]
    },
    {
     "name": "stderr",
     "output_type": "stream",
     "text": [
      "epoch 66, iters: 100%|██████████| 317/317 [00:36<00:00,  8.71it/s]\n"
     ]
    },
    {
     "name": "stdout",
     "output_type": "stream",
     "text": [
      "Epoch 66/100 - Loss: 0.3327 - Accuracy: 89.67%\n"
     ]
    },
    {
     "name": "stderr",
     "output_type": "stream",
     "text": [
      "epoch 67, iters: 100%|██████████| 317/317 [00:37<00:00,  8.41it/s]\n"
     ]
    },
    {
     "name": "stdout",
     "output_type": "stream",
     "text": [
      "Epoch 67/100 - Loss: 0.3337 - Accuracy: 89.70%\n"
     ]
    },
    {
     "name": "stderr",
     "output_type": "stream",
     "text": [
      "epoch 68, iters: 100%|██████████| 317/317 [00:35<00:00,  8.81it/s]\n"
     ]
    },
    {
     "name": "stdout",
     "output_type": "stream",
     "text": [
      "Epoch 68/100 - Loss: 0.3301 - Accuracy: 89.76%\n"
     ]
    },
    {
     "name": "stderr",
     "output_type": "stream",
     "text": [
      "epoch 69, iters: 100%|██████████| 317/317 [00:35<00:00,  8.89it/s]\n"
     ]
    },
    {
     "name": "stdout",
     "output_type": "stream",
     "text": [
      "Epoch 69/100 - Loss: 0.3236 - Accuracy: 89.96%\n"
     ]
    },
    {
     "name": "stderr",
     "output_type": "stream",
     "text": [
      "epoch 70, iters: 100%|██████████| 317/317 [00:40<00:00,  7.75it/s]\n"
     ]
    },
    {
     "name": "stdout",
     "output_type": "stream",
     "text": [
      "Epoch 70/100 - Loss: 0.3193 - Accuracy: 90.22%\n"
     ]
    },
    {
     "name": "stderr",
     "output_type": "stream",
     "text": [
      "epoch 71, iters: 100%|██████████| 317/317 [00:39<00:00,  8.08it/s]\n"
     ]
    },
    {
     "name": "stdout",
     "output_type": "stream",
     "text": [
      "Epoch 71/100 - Loss: 0.3193 - Accuracy: 90.10%\n"
     ]
    },
    {
     "name": "stderr",
     "output_type": "stream",
     "text": [
      "epoch 72, iters: 100%|██████████| 317/317 [00:36<00:00,  8.79it/s]\n"
     ]
    },
    {
     "name": "stdout",
     "output_type": "stream",
     "text": [
      "Epoch 72/100 - Loss: 0.3138 - Accuracy: 90.35%\n"
     ]
    },
    {
     "name": "stderr",
     "output_type": "stream",
     "text": [
      "epoch 73, iters: 100%|██████████| 317/317 [00:45<00:00,  6.91it/s]\n"
     ]
    },
    {
     "name": "stdout",
     "output_type": "stream",
     "text": [
      "Epoch 73/100 - Loss: 0.3102 - Accuracy: 90.51%\n"
     ]
    },
    {
     "name": "stderr",
     "output_type": "stream",
     "text": [
      "epoch 74, iters: 100%|██████████| 317/317 [00:44<00:00,  7.20it/s]\n"
     ]
    },
    {
     "name": "stdout",
     "output_type": "stream",
     "text": [
      "Epoch 74/100 - Loss: 0.3051 - Accuracy: 90.56%\n"
     ]
    },
    {
     "name": "stderr",
     "output_type": "stream",
     "text": [
      "epoch 75, iters: 100%|██████████| 317/317 [00:44<00:00,  7.19it/s]\n"
     ]
    },
    {
     "name": "stdout",
     "output_type": "stream",
     "text": [
      "Epoch 75/100 - Loss: 0.3069 - Accuracy: 90.64%\n"
     ]
    },
    {
     "name": "stderr",
     "output_type": "stream",
     "text": [
      "epoch 76, iters: 100%|██████████| 317/317 [00:45<00:00,  7.02it/s]\n"
     ]
    },
    {
     "name": "stdout",
     "output_type": "stream",
     "text": [
      "Epoch 76/100 - Loss: 0.2971 - Accuracy: 90.78%\n"
     ]
    },
    {
     "name": "stderr",
     "output_type": "stream",
     "text": [
      "epoch 77, iters: 100%|██████████| 317/317 [00:43<00:00,  7.31it/s]\n"
     ]
    },
    {
     "name": "stdout",
     "output_type": "stream",
     "text": [
      "Epoch 77/100 - Loss: 0.2970 - Accuracy: 90.91%\n"
     ]
    },
    {
     "name": "stderr",
     "output_type": "stream",
     "text": [
      "epoch 78, iters: 100%|██████████| 317/317 [00:43<00:00,  7.33it/s]\n"
     ]
    },
    {
     "name": "stdout",
     "output_type": "stream",
     "text": [
      "Epoch 78/100 - Loss: 0.2941 - Accuracy: 90.92%\n"
     ]
    },
    {
     "name": "stderr",
     "output_type": "stream",
     "text": [
      "epoch 79, iters: 100%|██████████| 317/317 [01:01<00:00,  5.18it/s]\n"
     ]
    },
    {
     "name": "stdout",
     "output_type": "stream",
     "text": [
      "Epoch 79/100 - Loss: 0.2932 - Accuracy: 90.98%\n"
     ]
    },
    {
     "name": "stderr",
     "output_type": "stream",
     "text": [
      "epoch 80, iters: 100%|██████████| 317/317 [00:45<00:00,  6.98it/s]\n"
     ]
    },
    {
     "name": "stdout",
     "output_type": "stream",
     "text": [
      "Epoch 80/100 - Loss: 0.2887 - Accuracy: 91.04%\n"
     ]
    },
    {
     "name": "stderr",
     "output_type": "stream",
     "text": [
      "epoch 81, iters: 100%|██████████| 317/317 [00:44<00:00,  7.15it/s]\n"
     ]
    },
    {
     "name": "stdout",
     "output_type": "stream",
     "text": [
      "Epoch 81/100 - Loss: 0.2808 - Accuracy: 91.39%\n"
     ]
    },
    {
     "name": "stderr",
     "output_type": "stream",
     "text": [
      "epoch 82, iters: 100%|██████████| 317/317 [00:43<00:00,  7.35it/s]\n"
     ]
    },
    {
     "name": "stdout",
     "output_type": "stream",
     "text": [
      "Epoch 82/100 - Loss: 0.2784 - Accuracy: 91.54%\n"
     ]
    },
    {
     "name": "stderr",
     "output_type": "stream",
     "text": [
      "epoch 83, iters: 100%|██████████| 317/317 [00:43<00:00,  7.27it/s]\n"
     ]
    },
    {
     "name": "stdout",
     "output_type": "stream",
     "text": [
      "Epoch 83/100 - Loss: 0.2732 - Accuracy: 91.63%\n"
     ]
    },
    {
     "name": "stderr",
     "output_type": "stream",
     "text": [
      "epoch 84, iters: 100%|██████████| 317/317 [00:42<00:00,  7.41it/s]\n"
     ]
    },
    {
     "name": "stdout",
     "output_type": "stream",
     "text": [
      "Epoch 84/100 - Loss: 0.2731 - Accuracy: 91.54%\n"
     ]
    },
    {
     "name": "stderr",
     "output_type": "stream",
     "text": [
      "epoch 85, iters: 100%|██████████| 317/317 [00:34<00:00,  9.13it/s]\n"
     ]
    },
    {
     "name": "stdout",
     "output_type": "stream",
     "text": [
      "Epoch 85/100 - Loss: 0.2683 - Accuracy: 91.81%\n"
     ]
    },
    {
     "name": "stderr",
     "output_type": "stream",
     "text": [
      "epoch 86, iters: 100%|██████████| 317/317 [00:35<00:00,  8.96it/s]\n"
     ]
    },
    {
     "name": "stdout",
     "output_type": "stream",
     "text": [
      "Epoch 86/100 - Loss: 0.2691 - Accuracy: 91.88%\n"
     ]
    },
    {
     "name": "stderr",
     "output_type": "stream",
     "text": [
      "epoch 87, iters: 100%|██████████| 317/317 [00:37<00:00,  8.55it/s]\n"
     ]
    },
    {
     "name": "stdout",
     "output_type": "stream",
     "text": [
      "Epoch 87/100 - Loss: 0.2691 - Accuracy: 91.69%\n"
     ]
    },
    {
     "name": "stderr",
     "output_type": "stream",
     "text": [
      "epoch 88, iters: 100%|██████████| 317/317 [00:36<00:00,  8.80it/s]\n"
     ]
    },
    {
     "name": "stdout",
     "output_type": "stream",
     "text": [
      "Epoch 88/100 - Loss: 0.2592 - Accuracy: 92.04%\n"
     ]
    },
    {
     "name": "stderr",
     "output_type": "stream",
     "text": [
      "epoch 89, iters: 100%|██████████| 317/317 [00:40<00:00,  7.92it/s]\n"
     ]
    },
    {
     "name": "stdout",
     "output_type": "stream",
     "text": [
      "Epoch 89/100 - Loss: 0.2599 - Accuracy: 92.12%\n"
     ]
    },
    {
     "name": "stderr",
     "output_type": "stream",
     "text": [
      "epoch 90, iters: 100%|██████████| 317/317 [00:43<00:00,  7.22it/s]\n"
     ]
    },
    {
     "name": "stdout",
     "output_type": "stream",
     "text": [
      "Epoch 90/100 - Loss: 0.2562 - Accuracy: 92.33%\n"
     ]
    },
    {
     "name": "stderr",
     "output_type": "stream",
     "text": [
      "epoch 91, iters: 100%|██████████| 317/317 [00:42<00:00,  7.46it/s]\n"
     ]
    },
    {
     "name": "stdout",
     "output_type": "stream",
     "text": [
      "Epoch 91/100 - Loss: 0.2543 - Accuracy: 92.34%\n"
     ]
    },
    {
     "name": "stderr",
     "output_type": "stream",
     "text": [
      "epoch 92, iters: 100%|██████████| 317/317 [00:40<00:00,  7.75it/s]\n"
     ]
    },
    {
     "name": "stdout",
     "output_type": "stream",
     "text": [
      "Epoch 92/100 - Loss: 0.2515 - Accuracy: 92.39%\n"
     ]
    },
    {
     "name": "stderr",
     "output_type": "stream",
     "text": [
      "epoch 93, iters: 100%|██████████| 317/317 [00:36<00:00,  8.64it/s]\n"
     ]
    },
    {
     "name": "stdout",
     "output_type": "stream",
     "text": [
      "Epoch 93/100 - Loss: 0.2494 - Accuracy: 92.40%\n"
     ]
    },
    {
     "name": "stderr",
     "output_type": "stream",
     "text": [
      "epoch 94, iters: 100%|██████████| 317/317 [00:34<00:00,  9.16it/s]\n"
     ]
    },
    {
     "name": "stdout",
     "output_type": "stream",
     "text": [
      "Epoch 94/100 - Loss: 0.2464 - Accuracy: 92.49%\n"
     ]
    },
    {
     "name": "stderr",
     "output_type": "stream",
     "text": [
      "epoch 95, iters: 100%|██████████| 317/317 [00:34<00:00,  9.22it/s]\n"
     ]
    },
    {
     "name": "stdout",
     "output_type": "stream",
     "text": [
      "Epoch 95/100 - Loss: 0.2457 - Accuracy: 92.44%\n"
     ]
    },
    {
     "name": "stderr",
     "output_type": "stream",
     "text": [
      "epoch 96, iters: 100%|██████████| 317/317 [00:37<00:00,  8.44it/s]\n"
     ]
    },
    {
     "name": "stdout",
     "output_type": "stream",
     "text": [
      "Epoch 96/100 - Loss: 0.2436 - Accuracy: 92.65%\n"
     ]
    },
    {
     "name": "stderr",
     "output_type": "stream",
     "text": [
      "epoch 97, iters: 100%|██████████| 317/317 [00:37<00:00,  8.46it/s]\n"
     ]
    },
    {
     "name": "stdout",
     "output_type": "stream",
     "text": [
      "Epoch 97/100 - Loss: 0.2410 - Accuracy: 92.71%\n"
     ]
    },
    {
     "name": "stderr",
     "output_type": "stream",
     "text": [
      "epoch 98, iters: 100%|██████████| 317/317 [00:37<00:00,  8.39it/s]\n"
     ]
    },
    {
     "name": "stdout",
     "output_type": "stream",
     "text": [
      "Epoch 98/100 - Loss: 0.2418 - Accuracy: 92.70%\n"
     ]
    },
    {
     "name": "stderr",
     "output_type": "stream",
     "text": [
      "epoch 99, iters: 100%|██████████| 317/317 [00:42<00:00,  7.42it/s]\n"
     ]
    },
    {
     "name": "stdout",
     "output_type": "stream",
     "text": [
      "Epoch 99/100 - Loss: 0.2421 - Accuracy: 92.76%\n"
     ]
    },
    {
     "name": "stderr",
     "output_type": "stream",
     "text": [
      "epoch 100, iters: 100%|██████████| 317/317 [00:42<00:00,  7.44it/s]"
     ]
    },
    {
     "name": "stdout",
     "output_type": "stream",
     "text": [
      "Epoch 100/100 - Loss: 0.2425 - Accuracy: 92.62%\n"
     ]
    },
    {
     "name": "stderr",
     "output_type": "stream",
     "text": [
      "\n"
     ]
    }
   ],
   "source": [
    "import numpy as np\n",
    "total_epoch = 100\n",
    "warmup_epoch = 5\n",
    "init_lr = 1e-1\n",
    "lr_lower_limit = 0\n",
    "\n",
    "# optimizer\n",
    "optimizer = torch.optim.SGD(model.parameters(), lr=0, weight_decay=1e-3, momentum=0.9)\n",
    "n_step_warmup = len(train_loader) * warmup_epoch\n",
    "total_iter = len(train_loader) * total_epoch\n",
    "iterations = 0\n",
    "\n",
    "losses=[]\n",
    "# train\n",
    "for epoch in range(total_epoch):\n",
    "    model.train()\n",
    "    running_loss = 0.0\n",
    "    correct = 0\n",
    "    total = 0\n",
    "\n",
    "    for sample in tqdm(train_loader, desc=\"epoch %d, iters\" % (epoch + 1)):\n",
    "        # lr cos schedule\n",
    "        iterations += 1\n",
    "        if iterations < n_step_warmup:\n",
    "            lr = init_lr * iterations / n_step_warmup\n",
    "        else:\n",
    "            lr = lr_lower_limit + 0.5 * (init_lr - lr_lower_limit) * (\n",
    "                1\n",
    "                + np.cos(\n",
    "                    np.pi * (iterations - n_step_warmup) / (total_iter - n_step_warmup)\n",
    "                )\n",
    "            )\n",
    "        for param_group in optimizer.param_groups:\n",
    "            param_group[\"lr\"] = lr\n",
    "\n",
    "        inputs, labels = sample\n",
    "        inputs = inputs.to(device)\n",
    "        labels = labels.to(device)\n",
    "        inputs = sp_transform(inputs)\n",
    "        outputs = model(inputs)\n",
    "        loss = F.cross_entropy(outputs, labels)\n",
    "\n",
    "        # Backward pass\n",
    "        loss.backward()\n",
    "        optimizer.step()\n",
    "        model.zero_grad()\n",
    "\n",
    "        # Track loss\n",
    "        running_loss += loss.item()\n",
    "\n",
    "        # Calculate accuracy\n",
    "        _, predicted = outputs.max(1)\n",
    "        total += labels.size(0)\n",
    "        correct += predicted.eq(labels).sum().item()\n",
    "\n",
    "    # Calculate and print epoch loss and accuracy\n",
    "    epoch_loss = running_loss / len(train_loader)\n",
    "    epoch_accuracy = 100. * correct / total\n",
    "    print(f\"Epoch {epoch+1}/{total_epoch} - Loss: {epoch_loss:.4f} - Accuracy: {epoch_accuracy:.2f}%\")\n",
    "    losses.append(epoch_loss)\n"
   ]
  },
  {
   "cell_type": "code",
   "execution_count": 18,
   "id": "93d48d12",
   "metadata": {},
   "outputs": [
    {
     "name": "stdout",
     "output_type": "stream",
     "text": [
      "test acc: 94.994\n",
      "End.\n"
     ]
    }
   ],
   "source": [
    "def Test(dataset, loader, augment):\n",
    "        \"\"\"\n",
    "        Tests the model on a given dataset.\n",
    "\n",
    "        Parameters:\n",
    "            dataset (Dataset): The dataset to test the model on.\n",
    "            loader (DataLoader): The data loader to use for batching the data.\n",
    "            augment (bool): Flag indicating whether to use data augmentation during testing.\n",
    "\n",
    "        Returns:\n",
    "            float: The accuracy of the model on the given dataset.\n",
    "        \"\"\"\n",
    "        model.eval()\n",
    "        true_count = 0.0\n",
    "        num_testdata = float(len(dataset))\n",
    "        with torch.no_grad():\n",
    "\n",
    "            for inputs, labels in loader:\n",
    "                inputs = inputs.to(device)\n",
    "                labels = labels.to(device)\n",
    "                inputs = sp_transform(inputs)\n",
    "                outputs = model(inputs)\n",
    "                prediction = torch.argmax(outputs, dim=-1)\n",
    "                true_count += prediction.eq(labels).sum().item()\n",
    "            acc = true_count / num_testdata * 100.0  # percentage\n",
    "            return acc\n",
    "\n",
    "\n",
    "test_acc = Test(test_set, test_loader, augment=False)  # official testset\n",
    "print(\"test acc: %.3f\" % (test_acc))\n",
    "print(\"End.\")"
   ]
  },
  {
   "cell_type": "code",
   "execution_count": 19,
   "id": "0a63b2d4",
   "metadata": {},
   "outputs": [],
   "source": [
    "def predict(tensor):\n",
    "    # Use the model to predict the label of the waveform\n",
    "    tensor = tensor.to(device)\n",
    "    tensor = sp_transform(tensor)\n",
    "    tensor=tensor.unsqueeze(0)\n",
    "    tensor = model(tensor)\n",
    "    tensor =  torch.argmax(tensor, dim=-1)\n",
    "    #tensor = tensor.squeeze()\n",
    "    return tensor"
   ]
  },
  {
   "cell_type": "code",
   "execution_count": 20,
   "id": "c33288bd-5b94-4a8b-ba1c-e5beaed53662",
   "metadata": {
    "execution": {
     "iopub.execute_input": "2024-08-27T08:43:02.552338Z",
     "iopub.status.busy": "2024-08-27T08:43:02.552338Z",
     "iopub.status.idle": "2024-08-27T08:43:02.929210Z",
     "shell.execute_reply": "2024-08-27T08:43:02.929210Z",
     "shell.execute_reply.started": "2024-08-27T08:43:02.552338Z"
    }
   },
   "outputs": [
    {
     "data": {
      "image/png": "[encoded data removed]",
      "text/plain": [
       "<Figure size 640x480 with 1 Axes>"
      ]
     },
     "metadata": {},
     "output_type": "display_data"
    }
   ],
   "source": [
    "plt.plot(losses);\n",
    "plt.title(\"training loss\");"
   ]
  },
  {
   "cell_type": "code",
   "execution_count": 21,
   "id": "7ab8ee69-302d-4a8f-859c-d47affb493d6",
   "metadata": {
    "execution": {
     "iopub.execute_input": "2024-08-27T08:55:29.680962Z",
     "iopub.status.busy": "2024-08-27T08:55:29.679965Z",
     "iopub.status.idle": "2024-08-27T08:56:52.870719Z",
     "shell.execute_reply": "2024-08-27T08:56:52.867626Z",
     "shell.execute_reply.started": "2024-08-27T08:55:29.680962Z"
    }
   },
   "outputs": [
    {
     "data": {
      "image/png": "[encoded data removed]",
      "text/plain": [
       "<Figure size 1000x700 with 2 Axes>"
      ]
     },
     "metadata": {},
     "output_type": "display_data"
    },
    {
     "name": "stdout",
     "output_type": "stream",
     "text": [
      "Accuracy for label '0': 89.49%\n",
      "Accuracy for label '1': 97.61%\n",
      "Accuracy for label '2': 97.53%\n",
      "Accuracy for label '3': 95.06%\n",
      "Accuracy for label '4': 86.95%\n",
      "Accuracy for label '5': 95.87%\n",
      "Accuracy for label '6': 93.94%\n",
      "Accuracy for label '7': 91.16%\n",
      "Accuracy for label '8': 93.53%\n",
      "Accuracy for label '9': 97.32%\n",
      "Accuracy for label '10': 90.05%\n",
      "Accuracy for label '11': 99.95%\n"
     ]
    }
   ],
   "source": [
    "from sklearn.metrics import confusion_matrix\n",
    "import numpy as np\n",
    "import matplotlib.pyplot as plt\n",
    "import seaborn as sns\n",
    "\n",
    "# 실제 라벨과 예측된 라벨을 저장할 리스트 초기화\n",
    "true_labels = []\n",
    "predicted_labels = []\n",
    "\n",
    "# 테스트 셋을 순회하며 예측 수행\n",
    "for i, (waveform, sample_rate, utterance, *_) in enumerate(test_set):\n",
    "    output = predict(waveform)\n",
    "    output=output.cpu()\n",
    "    true_labels.append(utterance)\n",
    "    predicted_labels.append(output)\n",
    "\n",
    "# 라벨 리스트 정의 (unknown 라벨도 포함)\n",
    "labels_list = [0, 1, 2, 3, 4, 5, 6, 7, 8, 9, 10, 11]\n",
    "\n",
    "# 혼동 행렬 계산\n",
    "cm = confusion_matrix(true_labels, predicted_labels, labels=labels_list)\n",
    "\n",
    "# 각 라벨에 대한 정확도 계산\n",
    "label_accuracies = {}\n",
    "for i, label in enumerate(labels_list):\n",
    "    true_positive = cm[i, i]\n",
    "    total_samples = cm[i, :].sum()\n",
    "    accuracy = true_positive / total_samples if total_samples > 0 else 0\n",
    "    label_accuracies[label] = accuracy\n",
    "\n",
    "# 혼동 행렬 시각화\n",
    "plt.figure(figsize=(10, 7))\n",
    "sns.heatmap(cm, annot=True, fmt='d', cmap='Blues', xticklabels=labels_list, yticklabels=labels_list)\n",
    "plt.xlabel('Predicted')\n",
    "plt.ylabel('True')\n",
    "plt.title('Confusion Matrix')\n",
    "plt.show()\n",
    "\n",
    "# # 혼동 행렬을 텍스트 파일로 저장\n",
    "# output_matrix_path = '/content/confusion_matrix.txt'\n",
    "# np.savetxt(output_matrix_path, cm, fmt='%d', delimiter=',', header=','.join(labels_list), comments='')\n",
    "# print(f\"Confusion matrix saved to {output_matrix_path}\")\n",
    "\n",
    "# 각 라벨에 대한 정확도 출력\n",
    "for label, accuracy in label_accuracies.items():\n",
    "    print(f\"Accuracy for label '{label}': {accuracy:.2%}\")\n"
   ]
  },
  {
   "cell_type": "markdown",
   "id": "7afe3756",
   "metadata": {},
   "source": [
    "0: unknown, 1: yes, 2: no, 3: up, 4: down, 5:left, 6:right, 7:on, 8:off, 9:stop, 10:go, 11:background_noise"
   ]
  }
 ],
 "metadata": {
  "kernelspec": {
   "display_name": "Python 3 (ipykernel)",
   "language": "python",
   "name": "python3"
  },
  "language_info": {
   "codemirror_mode": {
    "name": "ipython",
    "version": 3
   },
   "file_extension": ".py",
   "mimetype": "text/x-python",
   "name": "python",
   "nbconvert_exporter": "python",
   "pygments_lexer": "ipython3",
   "version": "3.12.4"
  }
 },
 "nbformat": 4,
 "nbformat_minor": 5
}
